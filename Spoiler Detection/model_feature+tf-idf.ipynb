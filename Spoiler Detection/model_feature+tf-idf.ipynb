{
  "cells": [
    {
      "cell_type": "markdown",
      "metadata": {
        "id": "AyIu8IEeuWeJ"
      },
      "source": [
        "### Step 1. 讀資料進來"
      ]
    },
    {
      "cell_type": "code",
      "execution_count": 1,
      "metadata": {
        "id": "anuavkw1sbtm"
      },
      "outputs": [],
      "source": [
        "import pandas as pd\n",
        "import re"
      ]
    },
    {
      "cell_type": "code",
      "execution_count": 2,
      "metadata": {
        "id": "l-mbs18euH68"
      },
      "outputs": [],
      "source": [
        "data = pd.read_csv(\"features.csv\")"
      ]
    },
    {
      "cell_type": "code",
      "execution_count": 4,
      "metadata": {},
      "outputs": [],
      "source": [
        "stopword = open(\"Chinese_stopwords.txt\").read()"
      ]
    },
    {
      "cell_type": "code",
      "execution_count": 5,
      "metadata": {},
      "outputs": [],
      "source": [
        "clean_token = []\n",
        "for i in data[\"tokens\"]:\n",
        "    token_list = i.split(\" \")\n",
        "    clean = \"\"\n",
        "    for token in token_list:\n",
        "        if token not in stopword:\n",
        "            clean = clean+\" \"+token\n",
        "    clean_token.append(clean)"
      ]
    },
    {
      "cell_type": "code",
      "execution_count": 6,
      "metadata": {},
      "outputs": [],
      "source": [
        "data[\"clean\"] = clean_token"
      ]
    },
    {
      "cell_type": "markdown",
      "metadata": {
        "id": "AL6goFwBhFkZ"
      },
      "source": [
        "### TF-IDF"
      ]
    },
    {
      "cell_type": "code",
      "execution_count": 8,
      "metadata": {
        "id": "6YaW2Iz9l13t"
      },
      "outputs": [],
      "source": [
        "from sklearn.feature_extraction.text import TfidfVectorizer\n",
        "\n",
        "vectorizer = TfidfVectorizer() #初始化工具\n",
        "vectorized_data = vectorizer.fit_transform(data[\"clean\"])"
      ]
    },
    {
      "cell_type": "code",
      "execution_count": 9,
      "metadata": {
        "id": "GC01VMLbl1wG"
      },
      "outputs": [],
      "source": [
        "tfidf_arr = vectorizer.get_feature_names_out() # 取出每一個被計算的詞\n",
        "tfidf_data = vectorizer.transform(data[\"clean\"]) \n",
        "annotation = tfidf_data.toarray()"
      ]
    },
    {
      "cell_type": "code",
      "execution_count": 10,
      "metadata": {
        "id": "vLR7QLvWl5S8"
      },
      "outputs": [],
      "source": [
        "tfidf = pd.DataFrame(annotation, columns=[tfidf_arr])"
      ]
    },
    {
      "cell_type": "code",
      "execution_count": 11,
      "metadata": {},
      "outputs": [],
      "source": [
        "feature = data[[\"adverb\", \"first_personal\", \"reporting_verbs\", \"ner\", \"positive\", \"negative\", \"neutral\", \"aspect_markers\"]]"
      ]
    },
    {
      "cell_type": "code",
      "execution_count": 12,
      "metadata": {},
      "outputs": [
        {
          "name": "stdout",
          "output_type": "stream",
          "text": [
            "<class 'pandas.core.frame.DataFrame'>\n",
            "Int64Index: 8289 entries, 0 to 8288\n",
            "Data columns (total 15 columns):\n",
            " #   Column           Non-Null Count  Dtype  \n",
            "---  ------           --------------  -----  \n",
            " 0   text             8289 non-null   object \n",
            " 1   label            8289 non-null   float64\n",
            " 2   adverb           8289 non-null   float64\n",
            " 3   first_personal   8289 non-null   float64\n",
            " 4   reporting_verbs  8289 non-null   float64\n",
            " 5   ner              8289 non-null   float64\n",
            " 6   sentiment        8289 non-null   int64  \n",
            " 7   tokens           8289 non-null   object \n",
            " 8   tags             8289 non-null   object \n",
            " 9   positive         8289 non-null   int64  \n",
            " 10  negative         8289 non-null   int64  \n",
            " 11  neutral          8289 non-null   float64\n",
            " 12  senti_score      8289 non-null   float64\n",
            " 13  clean            8289 non-null   object \n",
            " 14  aspect_markers   8289 non-null   float64\n",
            "dtypes: float64(8), int64(3), object(4)\n",
            "memory usage: 1.3+ MB\n"
          ]
        }
      ],
      "source": [
        "data.info()"
      ]
    },
    {
      "cell_type": "code",
      "execution_count": 13,
      "metadata": {},
      "outputs": [],
      "source": [
        "tf_feature = pd.concat([feature, tfidf], axis=1)"
      ]
    },
    {
      "attachments": {},
      "cell_type": "markdown",
      "metadata": {
        "id": "2FO8FAD9vDqp"
      },
      "source": [
        "### 分離特徵跟答案"
      ]
    },
    {
      "cell_type": "code",
      "execution_count": 14,
      "metadata": {
        "id": "N56gd5oqwEtv"
      },
      "outputs": [],
      "source": [
        "# 答案\n",
        "from sklearn.preprocessing import LabelEncoder\n",
        "label_encoder = LabelEncoder()\n",
        "label = data[[\"label\"]].apply(LabelEncoder().fit_transform)"
      ]
    },
    {
      "attachments": {},
      "cell_type": "markdown",
      "metadata": {
        "id": "UrdpOlmAwbVQ"
      },
      "source": [
        "### 區分訓練集跟測試集"
      ]
    },
    {
      "cell_type": "code",
      "execution_count": 15,
      "metadata": {
        "id": "wcZgxwGP46I1"
      },
      "outputs": [
        {
          "name": "stderr",
          "output_type": "stream",
          "text": [
            "e:\\Python\\lib\\site-packages\\sklearn\\utils\\validation.py:1858: FutureWarning: Feature names only support names that are all strings. Got feature names with dtypes: ['str', 'tuple']. An error will be raised in 1.2.\n",
            "  warnings.warn(\n"
          ]
        }
      ],
      "source": [
        "from imblearn.under_sampling import RandomUnderSampler\n",
        "\n",
        "undersample = RandomUnderSampler(sampling_strategy='majority', random_state = 168)\n",
        "feature_undersampled, label_undersampled = undersample.fit_resample(tf_feature, label)"
      ]
    },
    {
      "cell_type": "code",
      "execution_count": 16,
      "metadata": {},
      "outputs": [
        {
          "name": "stdout",
          "output_type": "stream",
          "text": [
            "0.10.1\n"
          ]
        }
      ],
      "source": [
        "import imblearn\n",
        "print(imblearn.__version__)"
      ]
    },
    {
      "cell_type": "code",
      "execution_count": 17,
      "metadata": {
        "id": "66mEmtxEwg6D"
      },
      "outputs": [],
      "source": [
        "from sklearn.model_selection import train_test_split\n",
        "feature_train, feature_test, label_train, label_test = train_test_split(feature_undersampled, label_undersampled, test_size = 0.2, random_state = 168)"
      ]
    },
    {
      "cell_type": "code",
      "execution_count": 18,
      "metadata": {},
      "outputs": [],
      "source": [
        "column_name = list(tf_feature.columns)"
      ]
    },
    {
      "cell_type": "code",
      "execution_count": 19,
      "metadata": {},
      "outputs": [],
      "source": [
        "new = []\n",
        "for name in column_name:\n",
        "    string = str(name)\n",
        "    new_name = re.sub(r\"\\(|\\)|,|'\", \"\", string)\n",
        "    new.append(new_name)"
      ]
    },
    {
      "attachments": {},
      "cell_type": "markdown",
      "metadata": {
        "id": "dzhSARlOwmRi"
      },
      "source": [
        "### 模型訓練"
      ]
    },
    {
      "cell_type": "markdown",
      "metadata": {
        "id": "0yLlLZL3xGGV"
      },
      "source": [
        "#### Naive Bayes"
      ]
    },
    {
      "cell_type": "code",
      "execution_count": 20,
      "metadata": {
        "colab": {
          "base_uri": "https://localhost:8080/"
        },
        "id": "aVoDFeE5wsWa",
        "outputId": "15c60c82-a975-4aa5-fa5c-0c44e4291dfc"
      },
      "outputs": [
        {
          "name": "stderr",
          "output_type": "stream",
          "text": [
            "e:\\Python\\lib\\site-packages\\sklearn\\utils\\validation.py:1111: DataConversionWarning: A column-vector y was passed when a 1d array was expected. Please change the shape of y to (n_samples, ), for example using ravel().\n",
            "  y = column_or_1d(y, warn=True)\n",
            "e:\\Python\\lib\\site-packages\\sklearn\\utils\\validation.py:1858: FutureWarning: Feature names only support names that are all strings. Got feature names with dtypes: ['str', 'tuple']. An error will be raised in 1.2.\n",
            "  warnings.warn(\n"
          ]
        }
      ],
      "source": [
        "from sklearn.naive_bayes import GaussianNB\n",
        "NB = GaussianNB()\n",
        "NB_model = NB.fit(feature_train, label_train)"
      ]
    },
    {
      "cell_type": "markdown",
      "metadata": {
        "id": "rviYruCrxNrf"
      },
      "source": [
        "#### Decision Tree"
      ]
    },
    {
      "cell_type": "code",
      "execution_count": 21,
      "metadata": {
        "id": "lD_JxlVdxQ3e"
      },
      "outputs": [
        {
          "name": "stderr",
          "output_type": "stream",
          "text": [
            "e:\\Python\\lib\\site-packages\\sklearn\\utils\\validation.py:1858: FutureWarning: Feature names only support names that are all strings. Got feature names with dtypes: ['str', 'tuple']. An error will be raised in 1.2.\n",
            "  warnings.warn(\n"
          ]
        }
      ],
      "source": [
        "from sklearn.tree import DecisionTreeClassifier\n",
        "DT_gini = DecisionTreeClassifier(criterion = \"gini\", random_state = 143)\n",
        "DT_gini_model = DT_gini.fit(feature_train, label_train)"
      ]
    },
    {
      "cell_type": "code",
      "execution_count": 22,
      "metadata": {
        "id": "DOBzbjUCxYMI"
      },
      "outputs": [
        {
          "name": "stderr",
          "output_type": "stream",
          "text": [
            "e:\\Python\\lib\\site-packages\\sklearn\\utils\\validation.py:1858: FutureWarning: Feature names only support names that are all strings. Got feature names with dtypes: ['str', 'tuple']. An error will be raised in 1.2.\n",
            "  warnings.warn(\n"
          ]
        }
      ],
      "source": [
        "DT_entropy = DecisionTreeClassifier(criterion = \"entropy\", random_state = 143)\n",
        "DT_entropy_model = DT_entropy.fit(feature_train, label_train)"
      ]
    },
    {
      "cell_type": "markdown",
      "metadata": {
        "id": "jw1Iu5-JxUGn"
      },
      "source": [
        "#### Random Forest"
      ]
    },
    {
      "cell_type": "code",
      "execution_count": 23,
      "metadata": {
        "colab": {
          "base_uri": "https://localhost:8080/"
        },
        "id": "qhg1cC5UxWAY",
        "outputId": "a6edafd2-2b64-444b-a64d-93afee52f3d9"
      },
      "outputs": [
        {
          "name": "stderr",
          "output_type": "stream",
          "text": [
            "e:\\Python\\lib\\site-packages\\sklearn\\utils\\validation.py:1858: FutureWarning: Feature names only support names that are all strings. Got feature names with dtypes: ['str', 'tuple']. An error will be raised in 1.2.\n",
            "  warnings.warn(\n",
            "C:\\Users\\user\\AppData\\Local\\Temp\\ipykernel_7228\\424854700.py:4: DataConversionWarning: A column-vector y was passed when a 1d array was expected. Please change the shape of y to (n_samples,), for example using ravel().\n",
            "  RF_gini_model = RF_gini.fit(feature_train, label_train)\n"
          ]
        }
      ],
      "source": [
        "from sklearn.ensemble import RandomForestClassifier\n",
        "\n",
        "RF_gini = RandomForestClassifier(criterion = \"gini\", random_state = 143)\n",
        "RF_gini_model = RF_gini.fit(feature_train, label_train)"
      ]
    },
    {
      "cell_type": "code",
      "execution_count": 24,
      "metadata": {
        "colab": {
          "base_uri": "https://localhost:8080/"
        },
        "id": "m7auEgUmxtW8",
        "outputId": "4dd9a5b0-60d0-45c8-8cc7-8b63f03306bf"
      },
      "outputs": [
        {
          "name": "stderr",
          "output_type": "stream",
          "text": [
            "e:\\Python\\lib\\site-packages\\sklearn\\utils\\validation.py:1858: FutureWarning: Feature names only support names that are all strings. Got feature names with dtypes: ['str', 'tuple']. An error will be raised in 1.2.\n",
            "  warnings.warn(\n",
            "C:\\Users\\user\\AppData\\Local\\Temp\\ipykernel_7228\\3780857554.py:2: DataConversionWarning: A column-vector y was passed when a 1d array was expected. Please change the shape of y to (n_samples,), for example using ravel().\n",
            "  RF_entropy_model = RF_entropy.fit(feature_train, label_train)\n"
          ]
        }
      ],
      "source": [
        "RF_entropy = RandomForestClassifier(criterion = \"entropy\", random_state = 143)\n",
        "RF_entropy_model = RF_entropy.fit(feature_train, label_train)"
      ]
    },
    {
      "cell_type": "markdown",
      "metadata": {
        "id": "BeBEBy1wxzA1"
      },
      "source": [
        "#### Logistic Regression"
      ]
    },
    {
      "cell_type": "code",
      "execution_count": 25,
      "metadata": {
        "colab": {
          "base_uri": "https://localhost:8080/"
        },
        "id": "_uZqUotlx1_M",
        "outputId": "eac9dfee-615b-4211-d04c-d520f0894363"
      },
      "outputs": [
        {
          "name": "stderr",
          "output_type": "stream",
          "text": [
            "e:\\Python\\lib\\site-packages\\sklearn\\utils\\validation.py:1858: FutureWarning: Feature names only support names that are all strings. Got feature names with dtypes: ['str', 'tuple']. An error will be raised in 1.2.\n",
            "  warnings.warn(\n",
            "e:\\Python\\lib\\site-packages\\sklearn\\utils\\validation.py:1111: DataConversionWarning: A column-vector y was passed when a 1d array was expected. Please change the shape of y to (n_samples, ), for example using ravel().\n",
            "  y = column_or_1d(y, warn=True)\n"
          ]
        }
      ],
      "source": [
        "from sklearn.linear_model import LogisticRegression\n",
        "LR = LogisticRegression()\n",
        "LR_model = LR.fit(feature_train, label_train)"
      ]
    },
    {
      "cell_type": "markdown",
      "metadata": {
        "id": "I6vZV9uyx4JG"
      },
      "source": [
        "#### SVM"
      ]
    },
    {
      "cell_type": "code",
      "execution_count": 26,
      "metadata": {
        "colab": {
          "base_uri": "https://localhost:8080/"
        },
        "id": "r1I18NvMMcee",
        "outputId": "61fccf1b-05e5-4c85-c86c-d334715b057d"
      },
      "outputs": [
        {
          "name": "stderr",
          "output_type": "stream",
          "text": [
            "e:\\Python\\lib\\site-packages\\sklearn\\utils\\validation.py:1858: FutureWarning: Feature names only support names that are all strings. Got feature names with dtypes: ['str', 'tuple']. An error will be raised in 1.2.\n",
            "  warnings.warn(\n",
            "e:\\Python\\lib\\site-packages\\sklearn\\utils\\validation.py:1111: DataConversionWarning: A column-vector y was passed when a 1d array was expected. Please change the shape of y to (n_samples, ), for example using ravel().\n",
            "  y = column_or_1d(y, warn=True)\n"
          ]
        }
      ],
      "source": [
        "from sklearn.svm import LinearSVC\n",
        "SVM_linear = LinearSVC(random_state=168, tol=1e-5)\n",
        "SVM_linear_model = SVM_linear.fit(feature_train, label_train)"
      ]
    },
    {
      "cell_type": "code",
      "execution_count": 27,
      "metadata": {
        "id": "-kF73eqCCSnv"
      },
      "outputs": [
        {
          "name": "stdout",
          "output_type": "stream",
          "text": [
            "<class 'pandas.core.frame.DataFrame'>\n",
            "Int64Index: 8289 entries, 0 to 8288\n",
            "Data columns (total 1 columns):\n",
            " #   Column  Non-Null Count  Dtype\n",
            "---  ------  --------------  -----\n",
            " 0   label   8289 non-null   int64\n",
            "dtypes: int64(1)\n",
            "memory usage: 387.6 KB\n"
          ]
        }
      ],
      "source": [
        "label.info()"
      ]
    },
    {
      "attachments": {},
      "cell_type": "markdown",
      "metadata": {
        "id": "s7OzX6cYx8_S"
      },
      "source": [
        "### 預測"
      ]
    },
    {
      "cell_type": "code",
      "execution_count": 28,
      "metadata": {
        "id": "1L3vn_dXyA6v"
      },
      "outputs": [
        {
          "name": "stderr",
          "output_type": "stream",
          "text": [
            "e:\\Python\\lib\\site-packages\\sklearn\\utils\\validation.py:1858: FutureWarning: Feature names only support names that are all strings. Got feature names with dtypes: ['str', 'tuple']. An error will be raised in 1.2.\n",
            "  warnings.warn(\n",
            "e:\\Python\\lib\\site-packages\\sklearn\\utils\\validation.py:1858: FutureWarning: Feature names only support names that are all strings. Got feature names with dtypes: ['str', 'tuple']. An error will be raised in 1.2.\n",
            "  warnings.warn(\n",
            "e:\\Python\\lib\\site-packages\\sklearn\\utils\\validation.py:1858: FutureWarning: Feature names only support names that are all strings. Got feature names with dtypes: ['str', 'tuple']. An error will be raised in 1.2.\n",
            "  warnings.warn(\n",
            "e:\\Python\\lib\\site-packages\\sklearn\\utils\\validation.py:1858: FutureWarning: Feature names only support names that are all strings. Got feature names with dtypes: ['str', 'tuple']. An error will be raised in 1.2.\n",
            "  warnings.warn(\n",
            "e:\\Python\\lib\\site-packages\\sklearn\\utils\\validation.py:1858: FutureWarning: Feature names only support names that are all strings. Got feature names with dtypes: ['str', 'tuple']. An error will be raised in 1.2.\n",
            "  warnings.warn(\n",
            "e:\\Python\\lib\\site-packages\\sklearn\\utils\\validation.py:1858: FutureWarning: Feature names only support names that are all strings. Got feature names with dtypes: ['str', 'tuple']. An error will be raised in 1.2.\n",
            "  warnings.warn(\n",
            "e:\\Python\\lib\\site-packages\\sklearn\\utils\\validation.py:1858: FutureWarning: Feature names only support names that are all strings. Got feature names with dtypes: ['str', 'tuple']. An error will be raised in 1.2.\n",
            "  warnings.warn(\n"
          ]
        }
      ],
      "source": [
        "NB_prediction = NB_model.predict(feature_test)\n",
        "DT_gini_prediction = DT_gini_model.predict(feature_test)\n",
        "DT_entropy_prediction = DT_entropy_model.predict(feature_test)\n",
        "RF_gini_prediction = RF_gini_model.predict(feature_test)\n",
        "RF_entropy_prediction = RF_entropy_model.predict(feature_test)\n",
        "LR_prediction = LR_model.predict(feature_test)\n",
        "SVM_linear_prediction = SVM_linear_model.predict(feature_test)"
      ]
    },
    {
      "attachments": {},
      "cell_type": "markdown",
      "metadata": {
        "id": "4czSgN8NyQVx"
      },
      "source": [
        "### 評估結果"
      ]
    },
    {
      "cell_type": "code",
      "execution_count": 29,
      "metadata": {
        "id": "huhqAOCSyb7K"
      },
      "outputs": [],
      "source": [
        "from sklearn.metrics import confusion_matrix, ConfusionMatrixDisplay, precision_recall_fscore_support, accuracy_score\n",
        "\n",
        "def model_metrics(prediction, label): \n",
        "    \n",
        "    print(ConfusionMatrixDisplay.from_predictions(label, prediction, cmap = \"Wistia\")) \n",
        "    evaluation = precision_recall_fscore_support(label, prediction, average='macro') \n",
        "    accuracy = accuracy_score(label, prediction) # 計算accuracy\n",
        "\n",
        "    print(\"accuracy: \" + str(round(accuracy, 2)) + \"\\nprecision: \" + str(round(evaluation[0], 2)) + \"\\nrecall: \" + str(round(evaluation[1], 2)) + \"\\nfscore: \" + str(round(evaluation[2],2)))"
      ]
    },
    {
      "cell_type": "markdown",
      "metadata": {
        "id": "cScWR7TAyVP1"
      },
      "source": [
        "#### Naive Bayes"
      ]
    },
    {
      "cell_type": "code",
      "execution_count": 30,
      "metadata": {
        "id": "VjjjnrYgyYB5"
      },
      "outputs": [
        {
          "name": "stdout",
          "output_type": "stream",
          "text": [
            "<sklearn.metrics._plot.confusion_matrix.ConfusionMatrixDisplay object at 0x000002866D05D4B0>\n",
            "accuracy: 0.67\n",
            "precision: 0.67\n",
            "recall: 0.66\n",
            "fscore: 0.66\n"
          ]
        },
        {
          "data": {
            "image/png": "[encoded data removed]",
            "text/plain": [
              "<Figure size 432x288 with 2 Axes>"
            ]
          },
          "metadata": {
            "needs_background": "light"
          },
          "output_type": "display_data"
        }
      ],
      "source": [
        "model_metrics(NB_prediction, label_test)"
      ]
    },
    {
      "cell_type": "markdown",
      "metadata": {
        "id": "zUY3PhgNyyv8"
      },
      "source": [
        "#### Decision Tree"
      ]
    },
    {
      "cell_type": "code",
      "execution_count": 31,
      "metadata": {
        "colab": {
          "base_uri": "https://localhost:8080/",
          "height": 366
        },
        "id": "A8z85MOLyk6R",
        "outputId": "d4d4636f-b289-48d7-ffc6-0d5c95ba0fdb"
      },
      "outputs": [
        {
          "name": "stdout",
          "output_type": "stream",
          "text": [
            "<sklearn.metrics._plot.confusion_matrix.ConfusionMatrixDisplay object at 0x00000286732F0250>\n",
            "accuracy: 0.64\n",
            "precision: 0.64\n",
            "recall: 0.63\n",
            "fscore: 0.63\n"
          ]
        },
        {
          "data": {
            "image/png": "[encoded data removed]",
            "text/plain": [
              "<Figure size 432x288 with 2 Axes>"
            ]
          },
          "metadata": {
            "needs_background": "light"
          },
          "output_type": "display_data"
        }
      ],
      "source": [
        "model_metrics(DT_gini_prediction, label_test)"
      ]
    },
    {
      "cell_type": "code",
      "execution_count": 32,
      "metadata": {
        "colab": {
          "base_uri": "https://localhost:8080/",
          "height": 366
        },
        "id": "f31paEhiync_",
        "outputId": "e9f5d1ce-d6f1-444c-a9d6-942aa48f303f"
      },
      "outputs": [
        {
          "name": "stdout",
          "output_type": "stream",
          "text": [
            "<sklearn.metrics._plot.confusion_matrix.ConfusionMatrixDisplay object at 0x00000286732F0400>\n",
            "accuracy: 0.64\n",
            "precision: 0.64\n",
            "recall: 0.64\n",
            "fscore: 0.64\n"
          ]
        },
        {
          "data": {
            "image/png": "[encoded data removed]",
            "text/plain": [
              "<Figure size 432x288 with 2 Axes>"
            ]
          },
          "metadata": {
            "needs_background": "light"
          },
          "output_type": "display_data"
        }
      ],
      "source": [
        "model_metrics(DT_entropy_prediction, label_test)"
      ]
    },
    {
      "cell_type": "markdown",
      "metadata": {
        "id": "TL1ARXERy0pR"
      },
      "source": [
        "#### Random Forest"
      ]
    },
    {
      "cell_type": "code",
      "execution_count": 33,
      "metadata": {
        "colab": {
          "base_uri": "https://localhost:8080/",
          "height": 366
        },
        "id": "G1-dnoT8ypeP",
        "outputId": "eaf6f4d7-c6f0-44b8-dae5-8d631c10081c"
      },
      "outputs": [
        {
          "name": "stdout",
          "output_type": "stream",
          "text": [
            "<sklearn.metrics._plot.confusion_matrix.ConfusionMatrixDisplay object at 0x0000028612FB3BB0>\n",
            "accuracy: 0.7\n",
            "precision: 0.7\n",
            "recall: 0.7\n",
            "fscore: 0.7\n"
          ]
        },
        {
          "data": {
            "image/png": "[encoded data removed]",
            "text/plain": [
              "<Figure size 432x288 with 2 Axes>"
            ]
          },
          "metadata": {
            "needs_background": "light"
          },
          "output_type": "display_data"
        }
      ],
      "source": [
        "model_metrics(RF_gini_prediction, label_test)"
      ]
    },
    {
      "cell_type": "code",
      "execution_count": 34,
      "metadata": {
        "colab": {
          "base_uri": "https://localhost:8080/",
          "height": 366
        },
        "id": "qwAo0QNEyrAM",
        "outputId": "e9d031ae-8ffd-4bbd-f9ad-f6e2f9569c15"
      },
      "outputs": [
        {
          "name": "stdout",
          "output_type": "stream",
          "text": [
            "<sklearn.metrics._plot.confusion_matrix.ConfusionMatrixDisplay object at 0x0000028676481FC0>\n",
            "accuracy: 0.71\n",
            "precision: 0.71\n",
            "recall: 0.71\n",
            "fscore: 0.71\n"
          ]
        },
        {
          "data": {
            "image/png": "[encoded data removed]",
            "text/plain": [
              "<Figure size 432x288 with 2 Axes>"
            ]
          },
          "metadata": {
            "needs_background": "light"
          },
          "output_type": "display_data"
        }
      ],
      "source": [
        "model_metrics(RF_entropy_prediction, label_test)"
      ]
    },
    {
      "cell_type": "markdown",
      "metadata": {
        "id": "2lFJXqIHy291"
      },
      "source": [
        "#### Logistic Regression"
      ]
    },
    {
      "cell_type": "code",
      "execution_count": 35,
      "metadata": {
        "colab": {
          "base_uri": "https://localhost:8080/",
          "height": 366
        },
        "id": "G8VbDNY1yuuL",
        "outputId": "335402bb-832b-48f1-8b78-eadfbf761da9"
      },
      "outputs": [
        {
          "name": "stdout",
          "output_type": "stream",
          "text": [
            "<sklearn.metrics._plot.confusion_matrix.ConfusionMatrixDisplay object at 0x0000028676464C70>\n",
            "accuracy: 0.74\n",
            "precision: 0.74\n",
            "recall: 0.74\n",
            "fscore: 0.74\n"
          ]
        },
        {
          "data": {
            "image/png": "[encoded data removed]",
            "text/plain": [
              "<Figure size 432x288 with 2 Axes>"
            ]
          },
          "metadata": {
            "needs_background": "light"
          },
          "output_type": "display_data"
        }
      ],
      "source": [
        "model_metrics(LR_prediction, label_test)"
      ]
    },
    {
      "cell_type": "markdown",
      "metadata": {
        "id": "DVhUKRzRy5kJ"
      },
      "source": [
        "#### SVM"
      ]
    },
    {
      "cell_type": "code",
      "execution_count": 36,
      "metadata": {
        "colab": {
          "base_uri": "https://localhost:8080/",
          "height": 366
        },
        "id": "ZndLQOWeM_U-",
        "outputId": "1324f8b5-2435-41ad-a3e6-b1c000ad431b"
      },
      "outputs": [
        {
          "name": "stdout",
          "output_type": "stream",
          "text": [
            "<sklearn.metrics._plot.confusion_matrix.ConfusionMatrixDisplay object at 0x00000286764ACA90>\n",
            "accuracy: 0.74\n",
            "precision: 0.74\n",
            "recall: 0.74\n",
            "fscore: 0.74\n"
          ]
        },
        {
          "data": {
            "image/png": "[encoded data removed]",
            "text/plain": [
              "<Figure size 432x288 with 2 Axes>"
            ]
          },
          "metadata": {
            "needs_background": "light"
          },
          "output_type": "display_data"
        }
      ],
      "source": [
        "model_metrics(SVM_linear_prediction, label_test)"
      ]
    },
    {
      "cell_type": "code",
      "execution_count": 37,
      "metadata": {
        "colab": {
          "base_uri": "https://localhost:8080/"
        },
        "id": "zm6LzzORkLSr",
        "outputId": "b5d0c350-d297-4e13-c533-2a948236b7ae"
      },
      "outputs": [
        {
          "data": {
            "text/plain": [
              "array([-0.46644933, -0.61582239,  0.08420307,  0.3759675 , -0.09666876,\n",
              "        0.31210809, -0.11429395,  0.46798248])"
            ]
          },
          "execution_count": 37,
          "metadata": {},
          "output_type": "execute_result"
        }
      ],
      "source": [
        "LR_model.coef_[0][0:8]"
      ]
    },
    {
      "cell_type": "code",
      "execution_count": 38,
      "metadata": {
        "colab": {
          "base_uri": "https://localhost:8080/"
        },
        "id": "iQCBCK7bkU0Q",
        "outputId": "c7044f88-8f13-4e2a-850e-59ab1379b18c"
      },
      "outputs": [
        {
          "data": {
            "text/plain": [
              "array([-0.12452032, -0.18893277,  0.05231698,  0.18221215, -0.02215651,\n",
              "        0.12487354, -0.04238845,  0.18258612])"
            ]
          },
          "execution_count": 38,
          "metadata": {},
          "output_type": "execute_result"
        }
      ],
      "source": [
        "SVM_linear_model.coef_[0][0:8]"
      ]
    },
    {
      "cell_type": "code",
      "execution_count": 39,
      "metadata": {
        "colab": {
          "base_uri": "https://localhost:8080/"
        },
        "id": "kVZy9I6Gkq8X",
        "outputId": "a877eeed-1203-4df1-87cb-74f5eb50d5ab"
      },
      "outputs": [
        {
          "data": {
            "text/plain": [
              "array([0.01380168, 0.01227048, 0.00868539, 0.00983384, 0.010652  ,\n",
              "       0.01581119, 0.00143219, 0.01087533])"
            ]
          },
          "execution_count": 39,
          "metadata": {},
          "output_type": "execute_result"
        }
      ],
      "source": [
        "DT_entropy_model.feature_importances_[0:8]"
      ]
    },
    {
      "cell_type": "code",
      "execution_count": 40,
      "metadata": {
        "colab": {
          "base_uri": "https://localhost:8080/"
        },
        "id": "TBgZK2ArkwmD",
        "outputId": "cad6fd45-de42-4c3e-d99c-51565d905dce"
      },
      "outputs": [
        {
          "data": {
            "text/plain": [
              "array([0.01866396, 0.01174244, 0.00553356, 0.00796973, 0.00616132,\n",
              "       0.01918445, 0.00344915, 0.00991058])"
            ]
          },
          "execution_count": 40,
          "metadata": {},
          "output_type": "execute_result"
        }
      ],
      "source": [
        "DT_gini_model.feature_importances_[0:8]"
      ]
    },
    {
      "cell_type": "code",
      "execution_count": 41,
      "metadata": {
        "colab": {
          "base_uri": "https://localhost:8080/"
        },
        "id": "V1qxAL9Pkz1w",
        "outputId": "5d38ce9b-0538-441a-e0bf-29e3704d1aa1"
      },
      "outputs": [
        {
          "data": {
            "text/plain": [
              "array([0.00865006, 0.00690609, 0.0039543 , 0.00663975, 0.00629266,\n",
              "       0.0099264 , 0.00346706, 0.00771961])"
            ]
          },
          "execution_count": 41,
          "metadata": {},
          "output_type": "execute_result"
        }
      ],
      "source": [
        "RF_entropy_model.feature_importances_[0:8]"
      ]
    },
    {
      "cell_type": "code",
      "execution_count": 42,
      "metadata": {
        "colab": {
          "base_uri": "https://localhost:8080/"
        },
        "id": "bYmyopgtk8lc",
        "outputId": "b8eb168b-b939-4c23-99a9-6cec584225f4"
      },
      "outputs": [
        {
          "data": {
            "text/plain": [
              "array([0.01001381, 0.00893779, 0.00394973, 0.00711807, 0.00602714,\n",
              "       0.01072738, 0.00382001, 0.00921685])"
            ]
          },
          "execution_count": 42,
          "metadata": {},
          "output_type": "execute_result"
        }
      ],
      "source": [
        "RF_gini_model.feature_importances_[0:8]"
      ]
    },
    {
      "cell_type": "code",
      "execution_count": 43,
      "metadata": {},
      "outputs": [
        {
          "data": {
            "text/html": [
              "<div>\n",
              "<style scoped>\n",
              "    .dataframe tbody tr th:only-of-type {\n",
              "        vertical-align: middle;\n",
              "    }\n",
              "\n",
              "    .dataframe tbody tr th {\n",
              "        vertical-align: top;\n",
              "    }\n",
              "\n",
              "    .dataframe thead th {\n",
              "        text-align: right;\n",
              "    }\n",
              "</style>\n",
              "<table border=\"1\" class=\"dataframe\">\n",
              "  <thead>\n",
              "    <tr style=\"text-align: right;\">\n",
              "      <th></th>\n",
              "      <th>adverb</th>\n",
              "      <th>first_personal</th>\n",
              "      <th>reporting_verbs</th>\n",
              "      <th>ner</th>\n",
              "      <th>positive</th>\n",
              "      <th>negative</th>\n",
              "      <th>neutral</th>\n",
              "      <th>aspect_markers</th>\n",
              "    </tr>\n",
              "  </thead>\n",
              "  <tbody>\n",
              "    <tr>\n",
              "      <th>0</th>\n",
              "      <td>1.0</td>\n",
              "      <td>1.0</td>\n",
              "      <td>1.0</td>\n",
              "      <td>1.0</td>\n",
              "      <td>0</td>\n",
              "      <td>0</td>\n",
              "      <td>1.0</td>\n",
              "      <td>0.1</td>\n",
              "    </tr>\n",
              "    <tr>\n",
              "      <th>1</th>\n",
              "      <td>0.1</td>\n",
              "      <td>1.0</td>\n",
              "      <td>1.0</td>\n",
              "      <td>1.0</td>\n",
              "      <td>0</td>\n",
              "      <td>1</td>\n",
              "      <td>0.1</td>\n",
              "      <td>1.0</td>\n",
              "    </tr>\n",
              "    <tr>\n",
              "      <th>2</th>\n",
              "      <td>0.1</td>\n",
              "      <td>0.1</td>\n",
              "      <td>0.1</td>\n",
              "      <td>0.1</td>\n",
              "      <td>0</td>\n",
              "      <td>0</td>\n",
              "      <td>1.0</td>\n",
              "      <td>0.1</td>\n",
              "    </tr>\n",
              "    <tr>\n",
              "      <th>3</th>\n",
              "      <td>0.1</td>\n",
              "      <td>0.1</td>\n",
              "      <td>0.1</td>\n",
              "      <td>0.1</td>\n",
              "      <td>0</td>\n",
              "      <td>0</td>\n",
              "      <td>1.0</td>\n",
              "      <td>1.0</td>\n",
              "    </tr>\n",
              "    <tr>\n",
              "      <th>4</th>\n",
              "      <td>0.1</td>\n",
              "      <td>0.1</td>\n",
              "      <td>0.1</td>\n",
              "      <td>0.1</td>\n",
              "      <td>0</td>\n",
              "      <td>0</td>\n",
              "      <td>1.0</td>\n",
              "      <td>0.1</td>\n",
              "    </tr>\n",
              "    <tr>\n",
              "      <th>...</th>\n",
              "      <td>...</td>\n",
              "      <td>...</td>\n",
              "      <td>...</td>\n",
              "      <td>...</td>\n",
              "      <td>...</td>\n",
              "      <td>...</td>\n",
              "      <td>...</td>\n",
              "      <td>...</td>\n",
              "    </tr>\n",
              "    <tr>\n",
              "      <th>8284</th>\n",
              "      <td>1.0</td>\n",
              "      <td>1.0</td>\n",
              "      <td>1.0</td>\n",
              "      <td>0.1</td>\n",
              "      <td>0</td>\n",
              "      <td>0</td>\n",
              "      <td>1.0</td>\n",
              "      <td>0.1</td>\n",
              "    </tr>\n",
              "    <tr>\n",
              "      <th>8285</th>\n",
              "      <td>0.1</td>\n",
              "      <td>0.1</td>\n",
              "      <td>0.1</td>\n",
              "      <td>0.1</td>\n",
              "      <td>0</td>\n",
              "      <td>0</td>\n",
              "      <td>1.0</td>\n",
              "      <td>0.1</td>\n",
              "    </tr>\n",
              "    <tr>\n",
              "      <th>8286</th>\n",
              "      <td>0.1</td>\n",
              "      <td>1.0</td>\n",
              "      <td>0.1</td>\n",
              "      <td>1.0</td>\n",
              "      <td>0</td>\n",
              "      <td>0</td>\n",
              "      <td>1.0</td>\n",
              "      <td>1.0</td>\n",
              "    </tr>\n",
              "    <tr>\n",
              "      <th>8287</th>\n",
              "      <td>0.1</td>\n",
              "      <td>0.1</td>\n",
              "      <td>1.0</td>\n",
              "      <td>0.1</td>\n",
              "      <td>0</td>\n",
              "      <td>0</td>\n",
              "      <td>1.0</td>\n",
              "      <td>0.1</td>\n",
              "    </tr>\n",
              "    <tr>\n",
              "      <th>8288</th>\n",
              "      <td>0.1</td>\n",
              "      <td>0.1</td>\n",
              "      <td>0.1</td>\n",
              "      <td>1.0</td>\n",
              "      <td>2</td>\n",
              "      <td>0</td>\n",
              "      <td>0.1</td>\n",
              "      <td>0.1</td>\n",
              "    </tr>\n",
              "  </tbody>\n",
              "</table>\n",
              "<p>8289 rows × 8 columns</p>\n",
              "</div>"
            ],
            "text/plain": [
              "      adverb  first_personal  reporting_verbs  ner  positive  negative  \\\n",
              "0        1.0             1.0              1.0  1.0         0         0   \n",
              "1        0.1             1.0              1.0  1.0         0         1   \n",
              "2        0.1             0.1              0.1  0.1         0         0   \n",
              "3        0.1             0.1              0.1  0.1         0         0   \n",
              "4        0.1             0.1              0.1  0.1         0         0   \n",
              "...      ...             ...              ...  ...       ...       ...   \n",
              "8284     1.0             1.0              1.0  0.1         0         0   \n",
              "8285     0.1             0.1              0.1  0.1         0         0   \n",
              "8286     0.1             1.0              0.1  1.0         0         0   \n",
              "8287     0.1             0.1              1.0  0.1         0         0   \n",
              "8288     0.1             0.1              0.1  1.0         2         0   \n",
              "\n",
              "      neutral  aspect_markers  \n",
              "0         1.0             0.1  \n",
              "1         0.1             1.0  \n",
              "2         1.0             0.1  \n",
              "3         1.0             1.0  \n",
              "4         1.0             0.1  \n",
              "...       ...             ...  \n",
              "8284      1.0             0.1  \n",
              "8285      1.0             0.1  \n",
              "8286      1.0             1.0  \n",
              "8287      1.0             0.1  \n",
              "8288      0.1             0.1  \n",
              "\n",
              "[8289 rows x 8 columns]"
            ]
          },
          "execution_count": 43,
          "metadata": {},
          "output_type": "execute_result"
        }
      ],
      "source": [
        "feature"
      ]
    },
    {
      "cell_type": "code",
      "execution_count": 44,
      "metadata": {},
      "outputs": [],
      "source": [
        "LR_importance = pd.DataFrame(LR_model.coef_, columns = tf_feature.columns).T"
      ]
    },
    {
      "cell_type": "code",
      "execution_count": 45,
      "metadata": {},
      "outputs": [],
      "source": [
        "LR_importance.columns = [\"importance\"]"
      ]
    },
    {
      "cell_type": "code",
      "execution_count": 46,
      "metadata": {},
      "outputs": [
        {
          "data": {
            "text/html": [
              "<div>\n",
              "<style scoped>\n",
              "    .dataframe tbody tr th:only-of-type {\n",
              "        vertical-align: middle;\n",
              "    }\n",
              "\n",
              "    .dataframe tbody tr th {\n",
              "        vertical-align: top;\n",
              "    }\n",
              "\n",
              "    .dataframe thead th {\n",
              "        text-align: right;\n",
              "    }\n",
              "</style>\n",
              "<table border=\"1\" class=\"dataframe\">\n",
              "  <thead>\n",
              "    <tr style=\"text-align: right;\">\n",
              "      <th></th>\n",
              "      <th>importance</th>\n",
              "    </tr>\n",
              "  </thead>\n",
              "  <tbody>\n",
              "    <tr>\n",
              "      <th>(電影,)</th>\n",
              "      <td>-3.545060</td>\n",
              "    </tr>\n",
              "    <tr>\n",
              "      <th>(劇情,)</th>\n",
              "      <td>-2.513678</td>\n",
              "    </tr>\n",
              "    <tr>\n",
              "      <th>(導演,)</th>\n",
              "      <td>-2.290887</td>\n",
              "    </tr>\n",
              "    <tr>\n",
              "      <th>(故事,)</th>\n",
              "      <td>-2.017898</td>\n",
              "    </tr>\n",
              "    <tr>\n",
              "      <th>(角色,)</th>\n",
              "      <td>-1.981232</td>\n",
              "    </tr>\n",
              "    <tr>\n",
              "      <th>...</th>\n",
              "      <td>...</td>\n",
              "    </tr>\n",
              "    <tr>\n",
              "      <th>(阿綸,)</th>\n",
              "      <td>1.948085</td>\n",
              "    </tr>\n",
              "    <tr>\n",
              "      <th>(最後,)</th>\n",
              "      <td>2.052622</td>\n",
              "    </tr>\n",
              "    <tr>\n",
              "      <th>(小咪,)</th>\n",
              "      <td>2.129842</td>\n",
              "    </tr>\n",
              "    <tr>\n",
              "      <th>(保羅,)</th>\n",
              "      <td>2.155462</td>\n",
              "    </tr>\n",
              "    <tr>\n",
              "      <th>(兒子,)</th>\n",
              "      <td>2.267329</td>\n",
              "    </tr>\n",
              "  </tbody>\n",
              "</table>\n",
              "<p>12737 rows × 1 columns</p>\n",
              "</div>"
            ],
            "text/plain": [
              "       importance\n",
              "(電影,)   -3.545060\n",
              "(劇情,)   -2.513678\n",
              "(導演,)   -2.290887\n",
              "(故事,)   -2.017898\n",
              "(角色,)   -1.981232\n",
              "...           ...\n",
              "(阿綸,)    1.948085\n",
              "(最後,)    2.052622\n",
              "(小咪,)    2.129842\n",
              "(保羅,)    2.155462\n",
              "(兒子,)    2.267329\n",
              "\n",
              "[12737 rows x 1 columns]"
            ]
          },
          "execution_count": 46,
          "metadata": {},
          "output_type": "execute_result"
        }
      ],
      "source": [
        "LR_importance.sort_values(by=[\"importance\"])"
      ]
    },
    {
      "cell_type": "code",
      "execution_count": 47,
      "metadata": {},
      "outputs": [
        {
          "data": {
            "text/html": [
              "<div>\n",
              "<style scoped>\n",
              "    .dataframe tbody tr th:only-of-type {\n",
              "        vertical-align: middle;\n",
              "    }\n",
              "\n",
              "    .dataframe tbody tr th {\n",
              "        vertical-align: top;\n",
              "    }\n",
              "\n",
              "    .dataframe thead th {\n",
              "        text-align: right;\n",
              "    }\n",
              "</style>\n",
              "<table border=\"1\" class=\"dataframe\">\n",
              "  <thead>\n",
              "    <tr style=\"text-align: right;\">\n",
              "      <th></th>\n",
              "      <th>importance</th>\n",
              "    </tr>\n",
              "  </thead>\n",
              "  <tbody>\n",
              "    <tr>\n",
              "      <th>(老爸,)</th>\n",
              "      <td>1.424272</td>\n",
              "    </tr>\n",
              "    <tr>\n",
              "      <th>(黛安娜,)</th>\n",
              "      <td>1.429644</td>\n",
              "    </tr>\n",
              "    <tr>\n",
              "      <th>(保羅,)</th>\n",
              "      <td>1.445564</td>\n",
              "    </tr>\n",
              "    <tr>\n",
              "      <th>(jacques,)</th>\n",
              "      <td>1.487361</td>\n",
              "    </tr>\n",
              "    <tr>\n",
              "      <th>(小咪,)</th>\n",
              "      <td>1.501441</td>\n",
              "    </tr>\n",
              "    <tr>\n",
              "      <th>(淑子,)</th>\n",
              "      <td>1.589775</td>\n",
              "    </tr>\n",
              "    <tr>\n",
              "      <th>(廣告,)</th>\n",
              "      <td>1.595434</td>\n",
              "    </tr>\n",
              "    <tr>\n",
              "      <th>(人類,)</th>\n",
              "      <td>1.606262</td>\n",
              "    </tr>\n",
              "    <tr>\n",
              "      <th>(兒子,)</th>\n",
              "      <td>1.617791</td>\n",
              "    </tr>\n",
              "    <tr>\n",
              "      <th>(無法,)</th>\n",
              "      <td>1.667580</td>\n",
              "    </tr>\n",
              "  </tbody>\n",
              "</table>\n",
              "</div>"
            ],
            "text/plain": [
              "            importance\n",
              "(老爸,)         1.424272\n",
              "(黛安娜,)        1.429644\n",
              "(保羅,)         1.445564\n",
              "(jacques,)    1.487361\n",
              "(小咪,)         1.501441\n",
              "(淑子,)         1.589775\n",
              "(廣告,)         1.595434\n",
              "(人類,)         1.606262\n",
              "(兒子,)         1.617791\n",
              "(無法,)         1.667580"
            ]
          },
          "execution_count": 47,
          "metadata": {},
          "output_type": "execute_result"
        }
      ],
      "source": [
        "SVM_importance = pd.DataFrame(SVM_linear_model.coef_, columns = tf_feature.columns).T\n",
        "SVM_importance.columns = [\"importance\"]\n",
        "SVM_importance.sort_values(by=[\"importance\"]).tail(10)"
      ]
    },
    {
      "cell_type": "code",
      "execution_count": 48,
      "metadata": {},
      "outputs": [
        {
          "data": {
            "text/html": [
              "<div>\n",
              "<style scoped>\n",
              "    .dataframe tbody tr th:only-of-type {\n",
              "        vertical-align: middle;\n",
              "    }\n",
              "\n",
              "    .dataframe tbody tr th {\n",
              "        vertical-align: top;\n",
              "    }\n",
              "\n",
              "    .dataframe thead th {\n",
              "        text-align: right;\n",
              "    }\n",
              "</style>\n",
              "<table border=\"1\" class=\"dataframe\">\n",
              "  <thead>\n",
              "    <tr style=\"text-align: right;\">\n",
              "      <th></th>\n",
              "      <th>importance</th>\n",
              "    </tr>\n",
              "  </thead>\n",
              "  <tbody>\n",
              "    <tr>\n",
              "      <th>(作品,)</th>\n",
              "      <td>-1.658680</td>\n",
              "    </tr>\n",
              "    <tr>\n",
              "      <th>(演員,)</th>\n",
              "      <td>-1.574521</td>\n",
              "    </tr>\n",
              "    <tr>\n",
              "      <th>(電影,)</th>\n",
              "      <td>-1.553538</td>\n",
              "    </tr>\n",
              "    <tr>\n",
              "      <th>(感受到,)</th>\n",
              "      <td>-1.549314</td>\n",
              "    </tr>\n",
              "    <tr>\n",
              "      <th>(漫威,)</th>\n",
              "      <td>-1.476158</td>\n",
              "    </tr>\n",
              "    <tr>\n",
              "      <th>(強調,)</th>\n",
              "      <td>-1.430244</td>\n",
              "    </tr>\n",
              "    <tr>\n",
              "      <th>(隊長,)</th>\n",
              "      <td>-1.390940</td>\n",
              "    </tr>\n",
              "    <tr>\n",
              "      <th>(顯示出,)</th>\n",
              "      <td>-1.388329</td>\n",
              "    </tr>\n",
              "    <tr>\n",
              "      <th>(期待,)</th>\n",
              "      <td>-1.386640</td>\n",
              "    </tr>\n",
              "    <tr>\n",
              "      <th>(偶然,)</th>\n",
              "      <td>-1.353176</td>\n",
              "    </tr>\n",
              "  </tbody>\n",
              "</table>\n",
              "</div>"
            ],
            "text/plain": [
              "        importance\n",
              "(作品,)    -1.658680\n",
              "(演員,)    -1.574521\n",
              "(電影,)    -1.553538\n",
              "(感受到,)   -1.549314\n",
              "(漫威,)    -1.476158\n",
              "(強調,)    -1.430244\n",
              "(隊長,)    -1.390940\n",
              "(顯示出,)   -1.388329\n",
              "(期待,)    -1.386640\n",
              "(偶然,)    -1.353176"
            ]
          },
          "execution_count": 48,
          "metadata": {},
          "output_type": "execute_result"
        }
      ],
      "source": [
        "SVM_importance.sort_values(by=[\"importance\"]).head(10)"
      ]
    },
    {
      "cell_type": "code",
      "execution_count": 49,
      "metadata": {},
      "outputs": [
        {
          "data": {
            "text/html": [
              "<div>\n",
              "<style scoped>\n",
              "    .dataframe tbody tr th:only-of-type {\n",
              "        vertical-align: middle;\n",
              "    }\n",
              "\n",
              "    .dataframe tbody tr th {\n",
              "        vertical-align: top;\n",
              "    }\n",
              "\n",
              "    .dataframe thead th {\n",
              "        text-align: right;\n",
              "    }\n",
              "</style>\n",
              "<table border=\"1\" class=\"dataframe\">\n",
              "  <thead>\n",
              "    <tr style=\"text-align: right;\">\n",
              "      <th></th>\n",
              "      <th>importance</th>\n",
              "    </tr>\n",
              "  </thead>\n",
              "  <tbody>\n",
              "    <tr>\n",
              "      <th>(電影,)</th>\n",
              "      <td>-3.545060</td>\n",
              "    </tr>\n",
              "    <tr>\n",
              "      <th>(劇情,)</th>\n",
              "      <td>-2.513678</td>\n",
              "    </tr>\n",
              "    <tr>\n",
              "      <th>(導演,)</th>\n",
              "      <td>-2.290887</td>\n",
              "    </tr>\n",
              "    <tr>\n",
              "      <th>(故事,)</th>\n",
              "      <td>-2.017898</td>\n",
              "    </tr>\n",
              "    <tr>\n",
              "      <th>(角色,)</th>\n",
              "      <td>-1.981232</td>\n",
              "    </tr>\n",
              "    <tr>\n",
              "      <th>(作品,)</th>\n",
              "      <td>-1.943276</td>\n",
              "    </tr>\n",
              "    <tr>\n",
              "      <th>(演員,)</th>\n",
              "      <td>-1.918767</td>\n",
              "    </tr>\n",
              "    <tr>\n",
              "      <th>(期待,)</th>\n",
              "      <td>-1.895603</td>\n",
              "    </tr>\n",
              "    <tr>\n",
              "      <th>(觀眾,)</th>\n",
              "      <td>-1.864449</td>\n",
              "    </tr>\n",
              "    <tr>\n",
              "      <th>(特效,)</th>\n",
              "      <td>-1.823472</td>\n",
              "    </tr>\n",
              "  </tbody>\n",
              "</table>\n",
              "</div>"
            ],
            "text/plain": [
              "       importance\n",
              "(電影,)   -3.545060\n",
              "(劇情,)   -2.513678\n",
              "(導演,)   -2.290887\n",
              "(故事,)   -2.017898\n",
              "(角色,)   -1.981232\n",
              "(作品,)   -1.943276\n",
              "(演員,)   -1.918767\n",
              "(期待,)   -1.895603\n",
              "(觀眾,)   -1.864449\n",
              "(特效,)   -1.823472"
            ]
          },
          "execution_count": 49,
          "metadata": {},
          "output_type": "execute_result"
        }
      ],
      "source": [
        "LR_importance.sort_values(by=[\"importance\"]).head(10)"
      ]
    },
    {
      "cell_type": "code",
      "execution_count": 50,
      "metadata": {},
      "outputs": [
        {
          "data": {
            "text/html": [
              "<div>\n",
              "<style scoped>\n",
              "    .dataframe tbody tr th:only-of-type {\n",
              "        vertical-align: middle;\n",
              "    }\n",
              "\n",
              "    .dataframe tbody tr th {\n",
              "        vertical-align: top;\n",
              "    }\n",
              "\n",
              "    .dataframe thead th {\n",
              "        text-align: right;\n",
              "    }\n",
              "</style>\n",
              "<table border=\"1\" class=\"dataframe\">\n",
              "  <thead>\n",
              "    <tr style=\"text-align: right;\">\n",
              "      <th></th>\n",
              "      <th>importance</th>\n",
              "    </tr>\n",
              "  </thead>\n",
              "  <tbody>\n",
              "    <tr>\n",
              "      <th>(殺手,)</th>\n",
              "      <td>1.578398</td>\n",
              "    </tr>\n",
              "    <tr>\n",
              "      <th>(女兒,)</th>\n",
              "      <td>1.670407</td>\n",
              "    </tr>\n",
              "    <tr>\n",
              "      <th>(無法,)</th>\n",
              "      <td>1.682653</td>\n",
              "    </tr>\n",
              "    <tr>\n",
              "      <th>(媽媽,)</th>\n",
              "      <td>1.723733</td>\n",
              "    </tr>\n",
              "    <tr>\n",
              "      <th>(老爸,)</th>\n",
              "      <td>1.911899</td>\n",
              "    </tr>\n",
              "    <tr>\n",
              "      <th>(阿綸,)</th>\n",
              "      <td>1.948085</td>\n",
              "    </tr>\n",
              "    <tr>\n",
              "      <th>(最後,)</th>\n",
              "      <td>2.052622</td>\n",
              "    </tr>\n",
              "    <tr>\n",
              "      <th>(小咪,)</th>\n",
              "      <td>2.129842</td>\n",
              "    </tr>\n",
              "    <tr>\n",
              "      <th>(保羅,)</th>\n",
              "      <td>2.155462</td>\n",
              "    </tr>\n",
              "    <tr>\n",
              "      <th>(兒子,)</th>\n",
              "      <td>2.267329</td>\n",
              "    </tr>\n",
              "  </tbody>\n",
              "</table>\n",
              "</div>"
            ],
            "text/plain": [
              "       importance\n",
              "(殺手,)    1.578398\n",
              "(女兒,)    1.670407\n",
              "(無法,)    1.682653\n",
              "(媽媽,)    1.723733\n",
              "(老爸,)    1.911899\n",
              "(阿綸,)    1.948085\n",
              "(最後,)    2.052622\n",
              "(小咪,)    2.129842\n",
              "(保羅,)    2.155462\n",
              "(兒子,)    2.267329"
            ]
          },
          "execution_count": 50,
          "metadata": {},
          "output_type": "execute_result"
        }
      ],
      "source": [
        "LR_importance.sort_values(by=[\"importance\"]).tail(10)"
      ]
    }
  ],
  "metadata": {
    "colab": {
      "provenance": []
    },
    "kernelspec": {
      "display_name": "Python 3",
      "language": "python",
      "name": "python3"
    },
    "language_info": {
      "codemirror_mode": {
        "name": "ipython",
        "version": 3
      },
      "file_extension": ".py",
      "mimetype": "text/x-python",
      "name": "python",
      "nbconvert_exporter": "python",
      "pygments_lexer": "ipython3",
      "version": "3.10.1"
    },
    "vscode": {
      "interpreter": {
        "hash": "e450050b432e843bda3c41bf3272c133bfc370a7003f3e377e27f87a49ce1127"
      }
    }
  },
  "nbformat": 4,
  "nbformat_minor": 0
}
