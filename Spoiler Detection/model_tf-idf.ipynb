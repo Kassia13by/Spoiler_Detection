{
  "cells": [
    {
      "cell_type": "markdown",
      "metadata": {
        "id": "AyIu8IEeuWeJ"
      },
      "source": [
        "### Step 1. 讀資料進來"
      ]
    },
    {
      "cell_type": "code",
      "execution_count": 1,
      "metadata": {
        "id": "anuavkw1sbtm"
      },
      "outputs": [],
      "source": [
        "import pandas as pd\n",
        "import re"
      ]
    },
    {
      "cell_type": "code",
      "execution_count": 2,
      "metadata": {
        "id": "l-mbs18euH68"
      },
      "outputs": [],
      "source": [
        "data = pd.read_csv(\"features.csv\")"
      ]
    },
    {
      "cell_type": "code",
      "execution_count": 3,
      "metadata": {},
      "outputs": [],
      "source": [
        "stopword = open(\"Chinese_stopwords.txt\").read()"
      ]
    },
    {
      "cell_type": "code",
      "execution_count": 4,
      "metadata": {},
      "outputs": [],
      "source": [
        "clean_token = []\n",
        "for i in data[\"tokens\"]:\n",
        "    token_list = i.split(\" \")\n",
        "    clean = \"\"\n",
        "    for token in token_list:\n",
        "        if token not in stopword:\n",
        "            clean = clean+\" \"+token\n",
        "    clean_token.append(clean)"
      ]
    },
    {
      "cell_type": "code",
      "execution_count": 5,
      "metadata": {},
      "outputs": [],
      "source": [
        "data[\"clean\"] = clean_token"
      ]
    },
    {
      "cell_type": "markdown",
      "metadata": {
        "id": "AL6goFwBhFkZ"
      },
      "source": [
        "### TF-IDF"
      ]
    },
    {
      "cell_type": "code",
      "execution_count": 74,
      "metadata": {
        "id": "6YaW2Iz9l13t"
      },
      "outputs": [],
      "source": [
        "from sklearn.feature_extraction.text import TfidfVectorizer\n",
        "\n",
        "vectorizer = TfidfVectorizer() #初始化工具\n",
        "vectorized_data = vectorizer.fit_transform(data[\"clean\"])"
      ]
    },
    {
      "cell_type": "code",
      "execution_count": 75,
      "metadata": {
        "id": "GC01VMLbl1wG"
      },
      "outputs": [],
      "source": [
        "tfidf_arr = vectorizer.get_feature_names_out() # 取出每一個被計算的詞\n",
        "tfidf_data = vectorizer.transform(data[\"clean\"]) \n",
        "annotation = tfidf_data.toarray()"
      ]
    },
    {
      "cell_type": "code",
      "execution_count": 76,
      "metadata": {
        "id": "vLR7QLvWl5S8"
      },
      "outputs": [],
      "source": [
        "tfidf = pd.DataFrame(annotation, columns=[tfidf_arr])"
      ]
    },
    {
      "cell_type": "code",
      "execution_count": 77,
      "metadata": {},
      "outputs": [
        {
          "name": "stdout",
          "output_type": "stream",
          "text": [
            "<class 'pandas.core.frame.DataFrame'>\n",
            "RangeIndex: 8289 entries, 0 to 8288\n",
            "Columns: 12729 entries, ('007',) to ('４８',)\n",
            "dtypes: float64(12729)\n",
            "memory usage: 805.0 MB\n"
          ]
        }
      ],
      "source": [
        "tfidf.info()"
      ]
    },
    {
      "attachments": {},
      "cell_type": "markdown",
      "metadata": {
        "id": "2FO8FAD9vDqp"
      },
      "source": [
        "### 分離特徵跟答案"
      ]
    },
    {
      "cell_type": "code",
      "execution_count": 105,
      "metadata": {
        "id": "N56gd5oqwEtv"
      },
      "outputs": [],
      "source": [
        "# 答案\n",
        "from sklearn.preprocessing import LabelEncoder\n",
        "label_encoder = LabelEncoder()\n",
        "label = data[[\"label\"]].apply(LabelEncoder().fit_transform)"
      ]
    },
    {
      "attachments": {},
      "cell_type": "markdown",
      "metadata": {
        "id": "UrdpOlmAwbVQ"
      },
      "source": [
        "### 區分訓練集跟測試集"
      ]
    },
    {
      "cell_type": "code",
      "execution_count": 115,
      "metadata": {
        "id": "wcZgxwGP46I1"
      },
      "outputs": [],
      "source": [
        "from imblearn.under_sampling import RandomUnderSampler\n",
        "\n",
        "undersample = RandomUnderSampler(sampling_strategy='majority', random_state = 168)\n",
        "feature_undersampled, label_undersampled = undersample.fit_resample(tfidf, label)"
      ]
    },
    {
      "cell_type": "code",
      "execution_count": 164,
      "metadata": {
        "id": "66mEmtxEwg6D"
      },
      "outputs": [],
      "source": [
        "from sklearn.model_selection import train_test_split\n",
        "feature_train, feature_test, label_train, label_test = train_test_split(feature_undersampled, label_undersampled, test_size = 0.2, random_state = 168)"
      ]
    },
    {
      "attachments": {},
      "cell_type": "markdown",
      "metadata": {
        "id": "dzhSARlOwmRi"
      },
      "source": [
        "### 模型訓練"
      ]
    },
    {
      "cell_type": "markdown",
      "metadata": {
        "id": "0yLlLZL3xGGV"
      },
      "source": [
        "#### Naive Bayes"
      ]
    },
    {
      "cell_type": "code",
      "execution_count": 165,
      "metadata": {
        "colab": {
          "base_uri": "https://localhost:8080/"
        },
        "id": "aVoDFeE5wsWa",
        "outputId": "15c60c82-a975-4aa5-fa5c-0c44e4291dfc"
      },
      "outputs": [
        {
          "name": "stderr",
          "output_type": "stream",
          "text": [
            "e:\\Python\\lib\\site-packages\\sklearn\\utils\\validation.py:1111: DataConversionWarning: A column-vector y was passed when a 1d array was expected. Please change the shape of y to (n_samples, ), for example using ravel().\n",
            "  y = column_or_1d(y, warn=True)\n"
          ]
        }
      ],
      "source": [
        "from sklearn.naive_bayes import GaussianNB\n",
        "NB = GaussianNB()\n",
        "NB_model = NB.fit(feature_train, label_train)"
      ]
    },
    {
      "cell_type": "markdown",
      "metadata": {
        "id": "rviYruCrxNrf"
      },
      "source": [
        "#### Decision Tree"
      ]
    },
    {
      "cell_type": "code",
      "execution_count": 166,
      "metadata": {
        "id": "lD_JxlVdxQ3e"
      },
      "outputs": [],
      "source": [
        "from sklearn.tree import DecisionTreeClassifier\n",
        "DT_gini = DecisionTreeClassifier(criterion = \"gini\", random_state = 168)\n",
        "DT_gini_model = DT_gini.fit(feature_train, label_train)"
      ]
    },
    {
      "cell_type": "code",
      "execution_count": 167,
      "metadata": {
        "id": "DOBzbjUCxYMI"
      },
      "outputs": [],
      "source": [
        "DT_entropy = DecisionTreeClassifier(criterion = \"entropy\", random_state = 168)\n",
        "DT_entropy_model = DT_gini.fit(feature_train, label_train)"
      ]
    },
    {
      "cell_type": "markdown",
      "metadata": {
        "id": "jw1Iu5-JxUGn"
      },
      "source": [
        "#### Random Forest"
      ]
    },
    {
      "cell_type": "code",
      "execution_count": 168,
      "metadata": {
        "colab": {
          "base_uri": "https://localhost:8080/"
        },
        "id": "qhg1cC5UxWAY",
        "outputId": "a6edafd2-2b64-444b-a64d-93afee52f3d9"
      },
      "outputs": [
        {
          "name": "stderr",
          "output_type": "stream",
          "text": [
            "C:\\Users\\user\\AppData\\Local\\Temp\\ipykernel_3528\\424854700.py:4: DataConversionWarning: A column-vector y was passed when a 1d array was expected. Please change the shape of y to (n_samples,), for example using ravel().\n",
            "  RF_gini_model = RF_gini.fit(feature_train, label_train)\n"
          ]
        }
      ],
      "source": [
        "from sklearn.ensemble import RandomForestClassifier\n",
        "\n",
        "RF_gini = RandomForestClassifier(criterion = \"gini\", random_state = 143)\n",
        "RF_gini_model = RF_gini.fit(feature_train, label_train)"
      ]
    },
    {
      "cell_type": "code",
      "execution_count": 169,
      "metadata": {
        "colab": {
          "base_uri": "https://localhost:8080/"
        },
        "id": "m7auEgUmxtW8",
        "outputId": "4dd9a5b0-60d0-45c8-8cc7-8b63f03306bf"
      },
      "outputs": [
        {
          "name": "stderr",
          "output_type": "stream",
          "text": [
            "C:\\Users\\user\\AppData\\Local\\Temp\\ipykernel_3528\\3780857554.py:2: DataConversionWarning: A column-vector y was passed when a 1d array was expected. Please change the shape of y to (n_samples,), for example using ravel().\n",
            "  RF_entropy_model = RF_entropy.fit(feature_train, label_train)\n"
          ]
        }
      ],
      "source": [
        "RF_entropy = RandomForestClassifier(criterion = \"entropy\", random_state = 143)\n",
        "RF_entropy_model = RF_entropy.fit(feature_train, label_train)"
      ]
    },
    {
      "cell_type": "markdown",
      "metadata": {
        "id": "BeBEBy1wxzA1"
      },
      "source": [
        "#### Logistic Regression"
      ]
    },
    {
      "cell_type": "code",
      "execution_count": 170,
      "metadata": {
        "colab": {
          "base_uri": "https://localhost:8080/"
        },
        "id": "_uZqUotlx1_M",
        "outputId": "eac9dfee-615b-4211-d04c-d520f0894363"
      },
      "outputs": [
        {
          "name": "stderr",
          "output_type": "stream",
          "text": [
            "e:\\Python\\lib\\site-packages\\sklearn\\utils\\validation.py:1111: DataConversionWarning: A column-vector y was passed when a 1d array was expected. Please change the shape of y to (n_samples, ), for example using ravel().\n",
            "  y = column_or_1d(y, warn=True)\n"
          ]
        }
      ],
      "source": [
        "from sklearn.linear_model import LogisticRegression\n",
        "LR = LogisticRegression()\n",
        "LR_model = LR.fit(feature_train, label_train)"
      ]
    },
    {
      "cell_type": "markdown",
      "metadata": {
        "id": "I6vZV9uyx4JG"
      },
      "source": [
        "#### SVM"
      ]
    },
    {
      "cell_type": "code",
      "execution_count": 171,
      "metadata": {
        "colab": {
          "base_uri": "https://localhost:8080/"
        },
        "id": "r1I18NvMMcee",
        "outputId": "61fccf1b-05e5-4c85-c86c-d334715b057d"
      },
      "outputs": [
        {
          "name": "stderr",
          "output_type": "stream",
          "text": [
            "e:\\Python\\lib\\site-packages\\sklearn\\utils\\validation.py:1111: DataConversionWarning: A column-vector y was passed when a 1d array was expected. Please change the shape of y to (n_samples, ), for example using ravel().\n",
            "  y = column_or_1d(y, warn=True)\n"
          ]
        }
      ],
      "source": [
        "from sklearn.svm import LinearSVC\n",
        "SVM_linear = LinearSVC(random_state=143, tol=1e-5)\n",
        "SVM_linear_model = SVM_linear.fit(feature_train, label_train)"
      ]
    },
    {
      "cell_type": "code",
      "execution_count": 172,
      "metadata": {
        "id": "-kF73eqCCSnv"
      },
      "outputs": [
        {
          "name": "stdout",
          "output_type": "stream",
          "text": [
            "<class 'pandas.core.frame.DataFrame'>\n",
            "Int64Index: 8289 entries, 0 to 8288\n",
            "Data columns (total 1 columns):\n",
            " #   Column  Non-Null Count  Dtype\n",
            "---  ------  --------------  -----\n",
            " 0   label   8289 non-null   int64\n",
            "dtypes: int64(1)\n",
            "memory usage: 129.5 KB\n"
          ]
        }
      ],
      "source": [
        "label.info()"
      ]
    },
    {
      "attachments": {},
      "cell_type": "markdown",
      "metadata": {
        "id": "s7OzX6cYx8_S"
      },
      "source": [
        "### 預測"
      ]
    },
    {
      "cell_type": "code",
      "execution_count": 173,
      "metadata": {
        "id": "1L3vn_dXyA6v"
      },
      "outputs": [],
      "source": [
        "NB_prediction = NB_model.predict(feature_test)\n",
        "DT_gini_prediction = DT_gini_model.predict(feature_test)\n",
        "DT_entropy_prediction = DT_entropy_model.predict(feature_test)\n",
        "RF_gini_prediction = RF_gini_model.predict(feature_test)\n",
        "RF_entropy_prediction = RF_entropy_model.predict(feature_test)\n",
        "LR_prediction = LR_model.predict(feature_test)\n",
        "SVM_linear_prediction = SVM_linear_model.predict(feature_test)"
      ]
    },
    {
      "attachments": {},
      "cell_type": "markdown",
      "metadata": {
        "id": "4czSgN8NyQVx"
      },
      "source": [
        "### 評估結果"
      ]
    },
    {
      "cell_type": "code",
      "execution_count": 174,
      "metadata": {
        "id": "huhqAOCSyb7K"
      },
      "outputs": [],
      "source": [
        "from sklearn.metrics import confusion_matrix, ConfusionMatrixDisplay, precision_recall_fscore_support, accuracy_score\n",
        "\n",
        "def model_metrics(prediction, label): \n",
        "    \n",
        "    print(ConfusionMatrixDisplay.from_predictions(label, prediction, cmap = \"Wistia\")) \n",
        "    evaluation = precision_recall_fscore_support(label, prediction, average='macro') \n",
        "    accuracy = accuracy_score(label, prediction) # 計算accuracy\n",
        "\n",
        "    print(\"accuracy: \" + str(round(accuracy, 2)) + \"\\nprecision: \" + str(round(evaluation[0], 2)) + \"\\nrecall: \" + str(round(evaluation[1], 2)) + \"\\nfscore: \" + str(round(evaluation[2],2)))"
      ]
    },
    {
      "cell_type": "markdown",
      "metadata": {
        "id": "cScWR7TAyVP1"
      },
      "source": [
        "#### Naive Bayes"
      ]
    },
    {
      "cell_type": "code",
      "execution_count": 175,
      "metadata": {
        "id": "VjjjnrYgyYB5"
      },
      "outputs": [
        {
          "name": "stdout",
          "output_type": "stream",
          "text": [
            "<sklearn.metrics._plot.confusion_matrix.ConfusionMatrixDisplay object at 0x000001EFE6AC20B0>\n",
            "accuracy: 0.67\n",
            "precision: 0.67\n",
            "recall: 0.66\n",
            "fscore: 0.66\n"
          ]
        },
        {
          "data": {
            "image/png": "[encoded data removed]",
            "text/plain": [
              "<Figure size 432x288 with 2 Axes>"
            ]
          },
          "metadata": {
            "needs_background": "light"
          },
          "output_type": "display_data"
        }
      ],
      "source": [
        "model_metrics(NB_prediction, label_test)"
      ]
    },
    {
      "cell_type": "markdown",
      "metadata": {
        "id": "zUY3PhgNyyv8"
      },
      "source": [
        "#### Decision Tree"
      ]
    },
    {
      "cell_type": "code",
      "execution_count": 176,
      "metadata": {
        "colab": {
          "base_uri": "https://localhost:8080/",
          "height": 366
        },
        "id": "A8z85MOLyk6R",
        "outputId": "d4d4636f-b289-48d7-ffc6-0d5c95ba0fdb"
      },
      "outputs": [
        {
          "name": "stdout",
          "output_type": "stream",
          "text": [
            "<sklearn.metrics._plot.confusion_matrix.ConfusionMatrixDisplay object at 0x000001F024917B20>\n",
            "accuracy: 0.67\n",
            "precision: 0.67\n",
            "recall: 0.67\n",
            "fscore: 0.67\n"
          ]
        },
        {
          "data": {
            "image/png": "[encoded data removed]",
            "text/plain": [
              "<Figure size 432x288 with 2 Axes>"
            ]
          },
          "metadata": {
            "needs_background": "light"
          },
          "output_type": "display_data"
        }
      ],
      "source": [
        "model_metrics(DT_gini_prediction, label_test)"
      ]
    },
    {
      "cell_type": "code",
      "execution_count": 177,
      "metadata": {
        "colab": {
          "base_uri": "https://localhost:8080/",
          "height": 366
        },
        "id": "f31paEhiync_",
        "outputId": "e9f5d1ce-d6f1-444c-a9d6-942aa48f303f"
      },
      "outputs": [
        {
          "name": "stdout",
          "output_type": "stream",
          "text": [
            "<sklearn.metrics._plot.confusion_matrix.ConfusionMatrixDisplay object at 0x000001EFE60385B0>\n",
            "accuracy: 0.67\n",
            "precision: 0.67\n",
            "recall: 0.67\n",
            "fscore: 0.67\n"
          ]
        },
        {
          "data": {
            "image/png": "[encoded data removed]",
            "text/plain": [
              "<Figure size 432x288 with 2 Axes>"
            ]
          },
          "metadata": {
            "needs_background": "light"
          },
          "output_type": "display_data"
        }
      ],
      "source": [
        "model_metrics(DT_entropy_prediction, label_test)"
      ]
    },
    {
      "cell_type": "markdown",
      "metadata": {
        "id": "TL1ARXERy0pR"
      },
      "source": [
        "#### Random Forest"
      ]
    },
    {
      "cell_type": "code",
      "execution_count": 178,
      "metadata": {
        "colab": {
          "base_uri": "https://localhost:8080/",
          "height": 366
        },
        "id": "G1-dnoT8ypeP",
        "outputId": "eaf6f4d7-c6f0-44b8-dae5-8d631c10081c"
      },
      "outputs": [
        {
          "name": "stdout",
          "output_type": "stream",
          "text": [
            "<sklearn.metrics._plot.confusion_matrix.ConfusionMatrixDisplay object at 0x000001F024A0DAB0>\n",
            "accuracy: 0.71\n",
            "precision: 0.71\n",
            "recall: 0.71\n",
            "fscore: 0.71\n"
          ]
        },
        {
          "data": {
            "image/png": "[encoded data removed]",
            "text/plain": [
              "<Figure size 432x288 with 2 Axes>"
            ]
          },
          "metadata": {
            "needs_background": "light"
          },
          "output_type": "display_data"
        }
      ],
      "source": [
        "model_metrics(RF_gini_prediction, label_test)"
      ]
    },
    {
      "cell_type": "code",
      "execution_count": 179,
      "metadata": {
        "colab": {
          "base_uri": "https://localhost:8080/",
          "height": 366
        },
        "id": "qwAo0QNEyrAM",
        "outputId": "e9d031ae-8ffd-4bbd-f9ad-f6e2f9569c15"
      },
      "outputs": [
        {
          "name": "stdout",
          "output_type": "stream",
          "text": [
            "<sklearn.metrics._plot.confusion_matrix.ConfusionMatrixDisplay object at 0x000001F06F773E80>\n",
            "accuracy: 0.71\n",
            "precision: 0.71\n",
            "recall: 0.71\n",
            "fscore: 0.71\n"
          ]
        },
        {
          "data": {
            "image/png": "[encoded data removed]",
            "text/plain": [
              "<Figure size 432x288 with 2 Axes>"
            ]
          },
          "metadata": {
            "needs_background": "light"
          },
          "output_type": "display_data"
        }
      ],
      "source": [
        "model_metrics(RF_entropy_prediction, label_test)"
      ]
    },
    {
      "cell_type": "markdown",
      "metadata": {
        "id": "2lFJXqIHy291"
      },
      "source": [
        "#### Logistic Regression"
      ]
    },
    {
      "cell_type": "code",
      "execution_count": 180,
      "metadata": {
        "colab": {
          "base_uri": "https://localhost:8080/",
          "height": 366
        },
        "id": "G8VbDNY1yuuL",
        "outputId": "335402bb-832b-48f1-8b78-eadfbf761da9"
      },
      "outputs": [
        {
          "name": "stdout",
          "output_type": "stream",
          "text": [
            "<sklearn.metrics._plot.confusion_matrix.ConfusionMatrixDisplay object at 0x000001F024AFC6D0>\n",
            "accuracy: 0.72\n",
            "precision: 0.72\n",
            "recall: 0.72\n",
            "fscore: 0.72\n"
          ]
        },
        {
          "data": {
            "image/png": "[encoded data removed]",
            "text/plain": [
              "<Figure size 432x288 with 2 Axes>"
            ]
          },
          "metadata": {
            "needs_background": "light"
          },
          "output_type": "display_data"
        }
      ],
      "source": [
        "model_metrics(LR_prediction, label_test)"
      ]
    },
    {
      "cell_type": "markdown",
      "metadata": {
        "id": "DVhUKRzRy5kJ"
      },
      "source": [
        "#### SVM"
      ]
    },
    {
      "cell_type": "code",
      "execution_count": 181,
      "metadata": {
        "colab": {
          "base_uri": "https://localhost:8080/",
          "height": 366
        },
        "id": "ZndLQOWeM_U-",
        "outputId": "1324f8b5-2435-41ad-a3e6-b1c000ad431b"
      },
      "outputs": [
        {
          "name": "stdout",
          "output_type": "stream",
          "text": [
            "<sklearn.metrics._plot.confusion_matrix.ConfusionMatrixDisplay object at 0x000001EFE5FD9570>\n",
            "accuracy: 0.72\n",
            "precision: 0.72\n",
            "recall: 0.72\n",
            "fscore: 0.72\n"
          ]
        },
        {
          "data": {
            "image/png": "[encoded data removed]",
            "text/plain": [
              "<Figure size 432x288 with 2 Axes>"
            ]
          },
          "metadata": {
            "needs_background": "light"
          },
          "output_type": "display_data"
        }
      ],
      "source": [
        "model_metrics(SVM_linear_prediction, label_test)"
      ]
    },
    {
      "cell_type": "code",
      "execution_count": 183,
      "metadata": {
        "colab": {
          "base_uri": "https://localhost:8080/"
        },
        "id": "zm6LzzORkLSr",
        "outputId": "b5d0c350-d297-4e13-c533-2a948236b7ae"
      },
      "outputs": [
        {
          "data": {
            "text/plain": [
              "array([[-0.12615653,  0.03463307, -0.24789266, ..., -0.16939999,\n",
              "        -0.21301271,  0.        ]])"
            ]
          },
          "execution_count": 183,
          "metadata": {},
          "output_type": "execute_result"
        }
      ],
      "source": [
        "LR_model.coef_"
      ]
    },
    {
      "cell_type": "code",
      "execution_count": 184,
      "metadata": {
        "colab": {
          "base_uri": "https://localhost:8080/"
        },
        "id": "iQCBCK7bkU0Q",
        "outputId": "c7044f88-8f13-4e2a-850e-59ab1379b18c"
      },
      "outputs": [
        {
          "data": {
            "text/plain": [
              "array([[-0.14102412,  0.06624818, -0.34887048, ..., -0.25951863,\n",
              "        -0.21423376,  0.        ]])"
            ]
          },
          "execution_count": 184,
          "metadata": {},
          "output_type": "execute_result"
        }
      ],
      "source": [
        "SVM_linear_model.coef_"
      ]
    }
  ],
  "metadata": {
    "colab": {
      "provenance": []
    },
    "kernelspec": {
      "display_name": "Python 3",
      "language": "python",
      "name": "python3"
    },
    "language_info": {
      "codemirror_mode": {
        "name": "ipython",
        "version": 3
      },
      "file_extension": ".py",
      "mimetype": "text/x-python",
      "name": "python",
      "nbconvert_exporter": "python",
      "pygments_lexer": "ipython3",
      "version": "3.10.1"
    },
    "vscode": {
      "interpreter": {
        "hash": "e450050b432e843bda3c41bf3272c133bfc370a7003f3e377e27f87a49ce1127"
      }
    }
  },
  "nbformat": 4,
  "nbformat_minor": 0
}
