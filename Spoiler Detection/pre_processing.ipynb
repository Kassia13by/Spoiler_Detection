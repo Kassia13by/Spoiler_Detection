{
  "cells": [
    {
      "cell_type": "markdown",
      "metadata": {
        "id": "AyIu8IEeuWeJ"
      },
      "source": [
        "### Step 1. 讀資料進來"
      ]
    },
    {
      "cell_type": "code",
      "execution_count": null,
      "metadata": {
        "id": "anuavkw1sbtm"
      },
      "outputs": [],
      "source": [
        "import pandas as pd\n",
        "import re"
      ]
    },
    {
      "cell_type": "code",
      "execution_count": null,
      "metadata": {
        "colab": {
          "base_uri": "https://localhost:8080/",
          "height": 1000
        },
        "id": "l-mbs18euH68",
        "outputId": "47bde423-fc93-4816-fe8e-7b42475d44fb"
      },
      "outputs": [
        {
          "data": {
            "text/html": [
              "\n",
              "  <div id=\"df-bab3b24d-eb48-44da-832d-e6b1220651fe\">\n",
              "    <div class=\"colab-df-container\">\n",
              "      <div>\n",
              "<style scoped>\n",
              "    .dataframe tbody tr th:only-of-type {\n",
              "        vertical-align: middle;\n",
              "    }\n",
              "\n",
              "    .dataframe tbody tr th {\n",
              "        vertical-align: top;\n",
              "    }\n",
              "\n",
              "    .dataframe thead th {\n",
              "        text-align: right;\n",
              "    }\n",
              "</style>\n",
              "<table border=\"1\" class=\"dataframe\">\n",
              "  <thead>\n",
              "    <tr style=\"text-align: right;\">\n",
              "      <th></th>\n",
              "      <th>Unnamed: 0</th>\n",
              "      <th>Unnamed: 0.1</th>\n",
              "      <th>text</th>\n",
              "      <th>label</th>\n",
              "      <th>adverb</th>\n",
              "      <th>first_personal</th>\n",
              "      <th>reporting_verbs</th>\n",
              "      <th>ner</th>\n",
              "      <th>sentiment</th>\n",
              "    </tr>\n",
              "  </thead>\n",
              "  <tbody>\n",
              "    <tr>\n",
              "      <th>0</th>\n",
              "      <td>0</td>\n",
              "      <td>0</td>\n",
              "      <td>最近閒來沒事，又把侏1翻出來看一遍，劇情、特效對我來說還是經典，很難被超越。</td>\n",
              "      <td>0.0</td>\n",
              "      <td>1</td>\n",
              "      <td>1</td>\n",
              "      <td>1</td>\n",
              "      <td>1</td>\n",
              "      <td>1</td>\n",
              "    </tr>\n",
              "    <tr>\n",
              "      <th>1</th>\n",
              "      <td>1</td>\n",
              "      <td>1</td>\n",
              "      <td>這部電影我從小到大也看了超過20次了吧，然而一些不合理處小時候沒感覺，這次看完後才覺得怪怪的</td>\n",
              "      <td>0.0</td>\n",
              "      <td>0</td>\n",
              "      <td>1</td>\n",
              "      <td>1</td>\n",
              "      <td>1</td>\n",
              "      <td>0</td>\n",
              "    </tr>\n",
              "    <tr>\n",
              "      <th>2</th>\n",
              "      <td>2</td>\n",
              "      <td>2</td>\n",
              "      <td>最後暴龍為什麼要救主角一行人？</td>\n",
              "      <td>1.0</td>\n",
              "      <td>0</td>\n",
              "      <td>0</td>\n",
              "      <td>0</td>\n",
              "      <td>0</td>\n",
              "      <td>1</td>\n",
              "    </tr>\n",
              "    <tr>\n",
              "      <th>3</th>\n",
              "      <td>3</td>\n",
              "      <td>3</td>\n",
              "      <td>明明一開始都是要致他們於死地的，怎麼最後反而成了救星？</td>\n",
              "      <td>1.0</td>\n",
              "      <td>0</td>\n",
              "      <td>0</td>\n",
              "      <td>0</td>\n",
              "      <td>0</td>\n",
              "      <td>1</td>\n",
              "    </tr>\n",
              "    <tr>\n",
              "      <th>4</th>\n",
              "      <td>4</td>\n",
              "      <td>4</td>\n",
              "      <td>暴龍是怎麼跑進遊客中心的？</td>\n",
              "      <td>1.0</td>\n",
              "      <td>0</td>\n",
              "      <td>0</td>\n",
              "      <td>0</td>\n",
              "      <td>0</td>\n",
              "      <td>1</td>\n",
              "    </tr>\n",
              "  </tbody>\n",
              "</table>\n",
              "</div>\n",
              "      <button class=\"colab-df-convert\" onclick=\"convertToInteractive('df-bab3b24d-eb48-44da-832d-e6b1220651fe')\"\n",
              "              title=\"Convert this dataframe to an interactive table.\"\n",
              "              style=\"display:none;\">\n",
              "        \n",
              "  <svg xmlns=\"http://www.w3.org/2000/svg\" height=\"24px\"viewBox=\"0 0 24 24\"\n",
              "       width=\"24px\">\n",
              "    <path d=\"M0 0h24v24H0V0z\" fill=\"none\"/>\n",
              "    <path d=\"M18.56 5.44l.94 2.06.94-2.06 2.06-.94-2.06-.94-.94-2.06-.94 2.06-2.06.94zm-11 1L8.5 8.5l.94-2.06 2.06-.94-2.06-.94L8.5 2.5l-.94 2.06-2.06.94zm10 10l.94 2.06.94-2.06 2.06-.94-2.06-.94-.94-2.06-.94 2.06-2.06.94z\"/><path d=\"M17.41 7.96l-1.37-1.37c-.4-.4-.92-.59-1.43-.59-.52 0-1.04.2-1.43.59L10.3 9.45l-7.72 7.72c-.78.78-.78 2.05 0 2.83L4 21.41c.39.39.9.59 1.41.59.51 0 1.02-.2 1.41-.59l7.78-7.78 2.81-2.81c.8-.78.8-2.07 0-2.86zM5.41 20L4 18.59l7.72-7.72 1.47 1.35L5.41 20z\"/>\n",
              "  </svg>\n",
              "      </button>\n",
              "      \n",
              "  <style>\n",
              "    .colab-df-container {\n",
              "      display:flex;\n",
              "      flex-wrap:wrap;\n",
              "      gap: 12px;\n",
              "    }\n",
              "\n",
              "    .colab-df-convert {\n",
              "      background-color: #E8F0FE;\n",
              "      border: none;\n",
              "      border-radius: 50%;\n",
              "      cursor: pointer;\n",
              "      display: none;\n",
              "      fill: #1967D2;\n",
              "      height: 32px;\n",
              "      padding: 0 0 0 0;\n",
              "      width: 32px;\n",
              "    }\n",
              "\n",
              "    .colab-df-convert:hover {\n",
              "      background-color: #E2EBFA;\n",
              "      box-shadow: 0px 1px 2px rgba(60, 64, 67, 0.3), 0px 1px 3px 1px rgba(60, 64, 67, 0.15);\n",
              "      fill: #174EA6;\n",
              "    }\n",
              "\n",
              "    [theme=dark] .colab-df-convert {\n",
              "      background-color: #3B4455;\n",
              "      fill: #D2E3FC;\n",
              "    }\n",
              "\n",
              "    [theme=dark] .colab-df-convert:hover {\n",
              "      background-color: #434B5C;\n",
              "      box-shadow: 0px 1px 3px 1px rgba(0, 0, 0, 0.15);\n",
              "      filter: drop-shadow(0px 1px 2px rgba(0, 0, 0, 0.3));\n",
              "      fill: #FFFFFF;\n",
              "    }\n",
              "  </style>\n",
              "\n",
              "      <script>\n",
              "        const buttonEl =\n",
              "          document.querySelector('#df-bab3b24d-eb48-44da-832d-e6b1220651fe button.colab-df-convert');\n",
              "        buttonEl.style.display =\n",
              "          google.colab.kernel.accessAllowed ? 'block' : 'none';\n",
              "\n",
              "        async function convertToInteractive(key) {\n",
              "          const element = document.querySelector('#df-bab3b24d-eb48-44da-832d-e6b1220651fe');\n",
              "          const dataTable =\n",
              "            await google.colab.kernel.invokeFunction('convertToInteractive',\n",
              "                                                     [key], {});\n",
              "          if (!dataTable) return;\n",
              "\n",
              "          const docLinkHtml = 'Like what you see? Visit the ' +\n",
              "            '<a target=\"_blank\" href=https://colab.research.google.com/notebooks/data_table.ipynb>data table notebook</a>'\n",
              "            + ' to learn more about interactive tables.';\n",
              "          element.innerHTML = '';\n",
              "          dataTable['output_type'] = 'display_data';\n",
              "          await google.colab.output.renderOutput(dataTable, element);\n",
              "          const docLink = document.createElement('div');\n",
              "          docLink.innerHTML = docLinkHtml;\n",
              "          element.appendChild(docLink);\n",
              "        }\n",
              "      </script>\n",
              "    </div>\n",
              "  </div>\n",
              "  "
            ],
            "text/plain": [
              "   Unnamed: 0  Unnamed: 0.1                                            text  \\\n",
              "0           0             0          最近閒來沒事，又把侏1翻出來看一遍，劇情、特效對我來說還是經典，很難被超越。   \n",
              "1           1             1  這部電影我從小到大也看了超過20次了吧，然而一些不合理處小時候沒感覺，這次看完後才覺得怪怪的   \n",
              "2           2             2                                 最後暴龍為什麼要救主角一行人？   \n",
              "3           3             3                     明明一開始都是要致他們於死地的，怎麼最後反而成了救星？   \n",
              "4           4             4                                   暴龍是怎麼跑進遊客中心的？   \n",
              "\n",
              "   label  adverb  first_personal  reporting_verbs  ner  sentiment  \n",
              "0    0.0       1               1                1    1          1  \n",
              "1    0.0       0               1                1    1          0  \n",
              "2    1.0       0               0                0    0          1  \n",
              "3    1.0       0               0                0    0          1  \n",
              "4    1.0       0               0                0    0          1  "
            ]
          },
          "execution_count": 337,
          "metadata": {},
          "output_type": "execute_result"
        }
      ],
      "source": [
        "data = pd.read_csv(\"/content/spoiler_sentence_final.csv\")\n",
        "data.head()"
      ]
    },
    {
      "cell_type": "markdown",
      "metadata": {
        "id": "tJcybwg-ufTW"
      },
      "source": [
        "### Step 2. 斷詞"
      ]
    },
    {
      "cell_type": "code",
      "execution_count": null,
      "metadata": {
        "colab": {
          "base_uri": "https://localhost:8080/"
        },
        "id": "KTx5pJcHuTxb",
        "outputId": "d3ee16d7-1952-4fab-f85b-54438a84c6d3"
      },
      "outputs": [
        {
          "name": "stdout",
          "output_type": "stream",
          "text": [
            "Looking in indexes: https://pypi.org/simple, https://us-python.pkg.dev/colab-wheels/public/simple/\n",
            "Collecting ckiptagger\n",
            "  Downloading ckiptagger-0.2.1-py3-none-any.whl (34 kB)\n",
            "Installing collected packages: ckiptagger\n",
            "Successfully installed ckiptagger-0.2.1\n"
          ]
        }
      ],
      "source": [
        "!pip install ckiptagger"
      ]
    },
    {
      "cell_type": "code",
      "execution_count": null,
      "metadata": {
        "id": "FYPJqlQ10Yka"
      },
      "outputs": [],
      "source": [
        "from ckiptagger import data_utils\n",
        "data_utils.download_data_url(\"./\")"
      ]
    },
    {
      "cell_type": "code",
      "execution_count": null,
      "metadata": {
        "colab": {
          "base_uri": "https://localhost:8080/"
        },
        "id": "2C4q5Rat0hdz",
        "outputId": "f3cb7062-7204-4d9c-9bb0-3780a8432cf5"
      },
      "outputs": [
        {
          "name": "stderr",
          "output_type": "stream",
          "text": [
            "/usr/local/lib/python3.8/dist-packages/ckiptagger/model_ws.py:106: UserWarning: `tf.nn.rnn_cell.LSTMCell` is deprecated and will be removed in a future version. This class is equivalent as `tf.keras.layers.LSTMCell`, and will be replaced by that in Tensorflow 2.0.\n",
            "  cell = tf.compat.v1.nn.rnn_cell.LSTMCell(hidden_d, name=name)\n",
            "/usr/local/lib/python3.8/dist-packages/ckiptagger/model_pos.py:56: UserWarning: `tf.nn.rnn_cell.LSTMCell` is deprecated and will be removed in a future version. This class is equivalent as `tf.keras.layers.LSTMCell`, and will be replaced by that in Tensorflow 2.0.\n",
            "  cell = tf.compat.v1.nn.rnn_cell.LSTMCell(hidden_d, name=name)\n",
            "/usr/local/lib/python3.8/dist-packages/ckiptagger/model_ner.py:57: UserWarning: `tf.nn.rnn_cell.LSTMCell` is deprecated and will be removed in a future version. This class is equivalent as `tf.keras.layers.LSTMCell`, and will be replaced by that in Tensorflow 2.0.\n",
            "  cell = tf.compat.v1.nn.rnn_cell.LSTMCell(hidden_d, name=name)\n"
          ]
        }
      ],
      "source": [
        "from ckiptagger import WS, POS, NER\n",
        "\n",
        "ws = WS(\"./data\")\n",
        "pos = POS(\"./data\")\n",
        "ner = NER(\"./data\")"
      ]
    },
    {
      "cell_type": "code",
      "execution_count": null,
      "metadata": {
        "id": "7WIYT0fi2kJB"
      },
      "outputs": [],
      "source": [
        "token_list = []\n",
        "for text in data[\"text\"]:\n",
        "  tokens = ws([text])\n",
        "  token_list.append(tokens)"
      ]
    },
    {
      "cell_type": "code",
      "execution_count": null,
      "metadata": {
        "id": "xzxEpp19M9PM"
      },
      "outputs": [],
      "source": [
        "tokens = []\n",
        "for i in token_list:\n",
        "  token = \" \".join(i[0])\n",
        "  tokens.append(token)"
      ]
    },
    {
      "cell_type": "code",
      "execution_count": null,
      "metadata": {
        "id": "IFPKSxMv3t-j"
      },
      "outputs": [],
      "source": [
        "POS_list = []\n",
        "for i in token_list:\n",
        "  pos_tokens = pos(i)\n",
        "  POS_list.append(pos_tokens)"
      ]
    },
    {
      "cell_type": "code",
      "execution_count": null,
      "metadata": {
        "id": "V0HvDI2dQka9"
      },
      "outputs": [],
      "source": [
        "pos_tags = []\n",
        "for i in POS_list:\n",
        "  tags = \" \".join(i[0])\n",
        "  pos_tags.append(tags)"
      ]
    },
    {
      "cell_type": "code",
      "execution_count": null,
      "metadata": {
        "colab": {
          "background_save": true
        },
        "id": "EhVj6TyH5CMY"
      },
      "outputs": [],
      "source": [
        "NER_list = []\n",
        "for i in range(len(token_list)):\n",
        "  ner_token = ner(token_list[i], POS_list[i])\n",
        "  NER_list.append(ner_token)"
      ]
    },
    {
      "cell_type": "code",
      "execution_count": null,
      "metadata": {
        "id": "mg-Fd6-cNYAO"
      },
      "outputs": [],
      "source": [
        "data[\"tokens\"] = tokens"
      ]
    },
    {
      "cell_type": "code",
      "execution_count": null,
      "metadata": {
        "id": "hv3Hdd_cREfh"
      },
      "outputs": [],
      "source": [
        "data[\"tags\"] = pos_tags"
      ]
    },
    {
      "cell_type": "markdown",
      "metadata": {
        "id": "M4HPmbnnulzB"
      },
      "source": [
        "### Step 3. 找特徵"
      ]
    },
    {
      "cell_type": "code",
      "execution_count": null,
      "metadata": {
        "id": "V5QTdxbgup7M"
      },
      "outputs": [],
      "source": [
        "# sentiment\n",
        "LIWC = pd.read_csv(\"/content/LIWC.csv\", sep=',')\n",
        "\n",
        "pos = [31]\n",
        "neg = [32]\n",
        "for num_31 in pos:\n",
        "    pos_df = LIWC[LIWC.isin([num_31]).any(1)].reset_index(drop=True)\n",
        "for num_32 in neg:\n",
        "    neg_df = LIWC[LIWC.isin([num_32]).any(1)].reset_index(drop=True)"
      ]
    },
    {
      "cell_type": "code",
      "execution_count": null,
      "metadata": {
        "id": "X1Em6pPWQO9l"
      },
      "outputs": [],
      "source": [
        "posemo_list = []\n",
        "\n",
        "for pos in pos_df['%']:\n",
        "    posemo_list.append(pos)"
      ]
    },
    {
      "cell_type": "code",
      "execution_count": null,
      "metadata": {
        "id": "vVuT_RX0QW-w"
      },
      "outputs": [],
      "source": [
        "negemo_list = []\n",
        "\n",
        "for neg in neg_df['%']:\n",
        "    negemo_list.append(neg)"
      ]
    },
    {
      "cell_type": "code",
      "execution_count": null,
      "metadata": {
        "id": "5WPirvSiI1R8"
      },
      "outputs": [],
      "source": [
        "positive = []\n",
        "negative = []\n",
        "neutral = []\n",
        "for tokens in token_list:\n",
        "  pos_counter = 0\n",
        "  neg_counter = 0\n",
        "  neu = 0\n",
        "  for i in tokens[0]:\n",
        "    if i in posemo_list:\n",
        "      pos_counter = pos_counter+1\n",
        "  for i in tokens[0]:\n",
        "    if i in negemo_list:\n",
        "      neg_counter = neg_counter+1\n",
        "  if pos_counter == 0 and neg_counter == 0:\n",
        "    neu = 1\n",
        "  else:\n",
        "    new = 0\n",
        "  positive.append(pos_counter)\n",
        "  negative.append(neg_counter)\n",
        "  neutral.append(neu)"
      ]
    },
    {
      "cell_type": "code",
      "execution_count": null,
      "metadata": {
        "id": "nATZao-mKAic"
      },
      "outputs": [],
      "source": [
        "data[\"positive\"] = positive\n",
        "data[\"negative\"] = negative\n",
        "data[\"neutral\"] = neutral"
      ]
    },
    {
      "cell_type": "code",
      "execution_count": null,
      "metadata": {
        "id": "nXDgVX22X_nr"
      },
      "outputs": [],
      "source": [
        "data.info()"
      ]
    },
    {
      "cell_type": "code",
      "execution_count": null,
      "metadata": {
        "colab": {
          "background_save": true
        },
        "id": "2Ix5E1lKSim2"
      },
      "outputs": [],
      "source": [
        "emo = []\n",
        "for tokens in token_list:\n",
        "  pos_count = 0\n",
        "  neg_count = 0\n",
        "  for i in tokens[0]:\n",
        "    if i in posemo_list:\n",
        "      pos_count = pos_count+1\n",
        "    if i in negemo_list:\n",
        "      neg_count = neg_count+1\n",
        "  if pos_count == 0 and neg_count == 0:\n",
        "    result = \"neutral\"\n",
        "  elif pos_count-neg_count > 0:\n",
        "    result = \"positive\"\n",
        "  elif pos_count-neg_count < 0:\n",
        "    result = \"negative\"\n",
        "  emo.append(result)"
      ]
    },
    {
      "cell_type": "code",
      "execution_count": null,
      "metadata": {
        "colab": {
          "background_save": true
        },
        "id": "omh2_jsgXNWi"
      },
      "outputs": [],
      "source": [
        "data[\"sentiment\"] = emo"
      ]
    },
    {
      "cell_type": "code",
      "execution_count": null,
      "metadata": {
        "id": "8keEJ1XDSPuL"
      },
      "outputs": [],
      "source": [
        "score = []\n",
        "for i in range(len(data[\"text\"])):\n",
        "  adverbs = re.findall(r\"Df\", data[\"tags\"][i])\n",
        "  if data[\"neutral\"][i] == 1:\n",
        "    scores = 0\n",
        "  elif data[\"positive\"][i] == data[\"negative\"][i]:\n",
        "    scores = 1*(1.5**len(adverbs))\n",
        "  else:\n",
        "    base = data[\"positive\"][i]-data[\"negative\"][i]\n",
        "    scores = base*(1.5**len(adverbs))\n",
        "  score.append(scores)"
      ]
    },
    {
      "cell_type": "code",
      "execution_count": null,
      "metadata": {
        "id": "4rg41hQBXQhD"
      },
      "outputs": [],
      "source": [
        "data[\"senti_score\"] = score"
      ]
    },
    {
      "cell_type": "code",
      "execution_count": null,
      "metadata": {
        "colab": {
          "background_save": true
        },
        "id": "ZLliELDVuupl"
      },
      "outputs": [],
      "source": [
        "# adverbs\n",
        "adverb = []\n",
        "for lists in POS_list:\n",
        "  new_list = \" \".join(lists[0])\n",
        "  result = re.findall(r\"Df\", new_list)\n",
        "  if len(result) > 0:\n",
        "    adverb.append(1)\n",
        "  else:\n",
        "    adverb.append(0)\n",
        "\n",
        "data[\"adverb\"] = adverb"
      ]
    },
    {
      "cell_type": "code",
      "execution_count": null,
      "metadata": {
        "colab": {
          "background_save": true
        },
        "id": "0AvdaZHXuxmj"
      },
      "outputs": [],
      "source": [
        "# NER\n",
        "ner_list = []\n",
        "for lists in NER_list:\n",
        "  result = len(lists[0])\n",
        "  if result > 0:\n",
        "    ner_list.append(1)\n",
        "  else:\n",
        "    ner_list.append(0)\n",
        "\n",
        "data[\"ner\"] = ner_list"
      ]
    },
    {
      "cell_type": "code",
      "execution_count": null,
      "metadata": {
        "colab": {
          "background_save": true
        },
        "id": "6siQSdN_uztq"
      },
      "outputs": [],
      "source": [
        "# first personal pronoun\n",
        "first = []\n",
        "for i in data[\"text\"]:\n",
        "  result = re.findall(r\"我\", i)\n",
        "  if len(result) == 0:\n",
        "    first.append(0)\n",
        "  else:\n",
        "    first.append(1)\n",
        "\n",
        "data[\"first_personal\"] = first"
      ]
    },
    {
      "cell_type": "code",
      "execution_count": null,
      "metadata": {
        "colab": {
          "background_save": true
        },
        "id": "Rm1zFNjAu3B6"
      },
      "outputs": [],
      "source": [
        "# reporting verb\n",
        "re_verbs = []\n",
        "for verbs in data['text']:\n",
        "  verbs = re.findall(r'說|講|提到|以為|提及|提出|問|道|表示|覺得|懷疑', verbs)\n",
        "  if len(verbs) == 0:\n",
        "    re_verbs.append(0)\n",
        "  else:\n",
        "    re_verbs.append(1)\n",
        "\n",
        "data['reporting_verbs'] = re_verbs"
      ]
    },
    {
      "cell_type": "code",
      "execution_count": null,
      "metadata": {
        "id": "9hOqOBYtRbCf"
      },
      "outputs": [],
      "source": [
        "# aspect markers\n",
        "aspect_markers = []\n",
        "for aspect in data['tokens']:\n",
        "  aspect = re.findall(r'\\s(了|著|過|完|在|起來|正在|正|下去)\\s', aspect)\n",
        "  if len(aspect) == 0:\n",
        "    aspect_markers.append(0)\n",
        "  else:\n",
        "    aspect_markers.append(1)\n",
        "\n",
        "data['aspect_markers'] = aspect_markers"
      ]
    },
    {
      "cell_type": "code",
      "execution_count": null,
      "metadata": {
        "colab": {
          "background_save": true
        },
        "id": "vBz9wi_rHUlI"
      },
      "outputs": [],
      "source": [
        "data.to_csv(r\"/content/features.csv\", encoding = \"UTF_8\", index=False)"
      ]
    }
  ],
  "metadata": {
    "colab": {
      "provenance": []
    },
    "kernelspec": {
      "display_name": "Python 3",
      "language": "python",
      "name": "python3"
    },
    "language_info": {
      "name": "python",
      "version": "3.10.1 (tags/v3.10.1:2cd268a, Dec  6 2021, 19:10:37) [MSC v.1929 64 bit (AMD64)]"
    },
    "vscode": {
      "interpreter": {
        "hash": "e450050b432e843bda3c41bf3272c133bfc370a7003f3e377e27f87a49ce1127"
      }
    }
  },
  "nbformat": 4,
  "nbformat_minor": 0
}
